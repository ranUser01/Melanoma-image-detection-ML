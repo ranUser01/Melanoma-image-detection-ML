{
 "cells": [
  {
   "cell_type": "markdown",
   "id": "d2ac7305",
   "metadata": {},
   "source": [
    "# Imports"
   ]
  },
  {
   "cell_type": "code",
   "execution_count": 1,
   "id": "3c191bb7",
   "metadata": {},
   "outputs": [],
   "source": [
    "# imports, including functions provided with the starter\n",
    "import pandas as pd\n",
    "import numpy as np\n",
    "import matplotlib.pyplot as plt\n",
    "import os\n",
    "\n",
    "os.chdir('..')\n",
    "\n",
    "from groupXY_functions import *\n"
   ]
  },
  {
   "cell_type": "markdown",
   "id": "7cb06195",
   "metadata": {},
   "source": [
    "# Defining functions and preprocessing"
   ]
  },
  {
   "cell_type": "code",
   "execution_count": 27,
   "id": "5703c959",
   "metadata": {},
   "outputs": [],
   "source": [
    "# Assymetry function\n",
    "# 0 is a perfect circle, 1 has all the quarters of an image completely different\n",
    "def asymmetry_score(image):\n",
    "\n",
    "    height, width = np.shape(image)\n",
    "    if width % 2:\n",
    "        # Subparts need to be the same size to compare them\n",
    "        left_half = image[:, 0:width//2+1]\n",
    "    else:\n",
    "        left_half = image[:, 0:width//2]\n",
    "    # \"folding\" on vertical axis\n",
    "    right_half = np.flip(image[:, width//2:], 1)\n",
    "    \n",
    "    if height % 2:\n",
    "        top_half = image[0:height//2+1, :]\n",
    "    else:\n",
    "        top_half = image[0:height//2, :]\n",
    "    # \"folding\" on hotizontal axis\n",
    "    bottom_half = np.flip(image[height//2:, :], 0)\n",
    "    \n",
    "    hor_diff = np.where(left_half != right_half, 1, 0)\n",
    "    ver_diff = np.where(top_half != bottom_half, 1, 0)\n",
    "    return round((np.sum(hor_diff) + np.sum(ver_diff)) / (width * height),3)\n",
    "\n",
    "\n",
    "# Border function, compactness\n",
    "# Due to inherit limitations of digital images, for some masks returend compactness value is below 1, which is wrong.\n",
    "# Nonetheless, such an imprecission is acceptable given that multiple variables are considred in diagnoses \n",
    "def get_compactness(area, perimeter):\n",
    "    return round(perimeter**2 / (4 * np.pi * area),3)\n",
    "\n",
    "\n",
    "# Return smallest and largest x, smallest and largest y that contains a white pixel, so that we can crop it to measure asymmetry\n",
    "def get_extremes(image):\n",
    "    non_zeros = np.nonzero(image)\n",
    "    return min(non_zeros[1]), max(non_zeros[1]), min(non_zeros[0]), max(non_zeros[0])\n",
    "\n",
    "# Crops both the image and the mask to the actual size of the mask, saves to files\n",
    "# Returns cropped image and mask in the array\n",
    "def crop(image_id):\n",
    "    path = 'data/example_image'\n",
    "    path_cropped = path + '_cropped'\n",
    "    path_mask = 'data/example_segmentation'\n",
    "    path_mask_cropped = path_mask + '_cropped'\n",
    "    if os.path.exists(path_cropped + image_id + '.jpg'):\n",
    "        image = plt.imread(path_cropped + '/' + image_id + '.jpg')\n",
    "        mask = plt.imread(path_mask_cropped + '/' + image_id + '.png')\n",
    "        return image, mask\n",
    "    if not os.path.exists(path_cropped):\n",
    "        os.mkdir(path_cropped)\n",
    "        os.mkdir(path_mask_cropped)\n",
    "    image = plt.imread(path + '/' + image_id + '.jpg')\n",
    "    mask = plt.imread(path_mask + '/' + image_id + '_segmentation.png')\n",
    "    min_x, max_x, min_y, max_y = get_extremes(mask)\n",
    "    mask = mask[min_y:max_y+1, min_x:max_x+1]\n",
    "    plt.imsave(path_mask_cropped + '/' + image_id + '.png', mask, cmap=plt.cm.gray)\n",
    "    image_cropped = image.copy()[min_y:max_y+1, min_x:max_x+1, :]\n",
    "    to_black = mask==0\n",
    "    image_cropped[to_black] = (0,0,0)\n",
    "    plt.imsave(path_cropped + '/' + image_id + '.jpg', image_cropped)   \n",
    "    return image, mask\n"
   ]
  },
  {
   "cell_type": "code",
   "execution_count": 28,
   "id": "840ddef2",
   "metadata": {},
   "outputs": [],
   "source": [
    "# Import a data frame with file names and associated diseases\n",
    "df_conditions = pd.read_csv('data/example_ground_truth.csv')\n",
    "\n",
    "\n",
    "# A new datframe is created, which will store results of ABC tests \n",
    "df_evaluations = pd.DataFrame(df_conditions['image_id'])\n",
    "for name in ['asymmetry', 'border', 'color']:\n",
    "    df_evaluations[name] = 0.0\n",
    "    \n",
    "for i in range(df_evaluations.shape[0]):\n",
    "    image, mask = crop(df_evaluations.at[i, 'image_id'])\n",
    "    df_evaluations.at[i, 'asymmetry'] = asymmetry_score(mask)\n",
    "    area, perimeter = measure_area_perimeter(mask)\n",
    "    df_evaluations.at[i, 'border'] = get_compactness(area, perimeter)"
   ]
  },
  {
   "cell_type": "code",
   "execution_count": null,
   "id": "fc371e6e",
   "metadata": {
    "scrolled": true
   },
   "outputs": [],
   "source": [
    "df_evaluations"
   ]
  },
  {
   "cell_type": "code",
   "execution_count": null,
   "id": "5f652ddd",
   "metadata": {},
   "outputs": [],
   "source": [
    "mask = plt.imread('data/example_segmentation/ISIC_0001769_segmentation.png')\n",
    "image = plt.imread('data/example_image_cropped/ISIC_0001769.jpg')\n",
    "\n",
    "plt.imshow(image)"
   ]
  },
  {
   "cell_type": "code",
   "execution_count": null,
   "id": "c12e5731",
   "metadata": {},
   "outputs": [],
   "source": []
  }
 ],
 "metadata": {
  "kernelspec": {
   "display_name": "Python 3",
   "language": "python",
   "name": "python3"
  },
  "language_info": {
   "codemirror_mode": {
    "name": "ipython",
    "version": 3
   },
   "file_extension": ".py",
   "mimetype": "text/x-python",
   "name": "python",
   "nbconvert_exporter": "python",
   "pygments_lexer": "ipython3",
   "version": "3.8.8"
  }
 },
 "nbformat": 4,
 "nbformat_minor": 5
}
