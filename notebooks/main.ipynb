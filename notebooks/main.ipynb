{
 "cells": [
  {
   "cell_type": "code",
   "execution_count": 1,
   "id": "1d4776a7",
   "metadata": {},
   "outputs": [],
   "source": [
    "# imports, including functions provided with the starter\n",
    "import pandas as pd\n",
    "import numpy as np\n",
    "import matplotlib.pyplot as plt\n",
    "import os\n",
    "\n",
    "os.chdir('..')\n",
    "\n",
    "from groupXY_functions import *"
   ]
  },
  {
   "cell_type": "code",
   "execution_count": 4,
   "id": "5703c959",
   "metadata": {},
   "outputs": [],
   "source": [
    "# week11-2_features.pdf, slide 11\n",
    "def get_compactness(area, perimeter):\n",
    "    return perimeter**2 / (4 * np.pi * area)\n",
    "\n",
    "# Return smallest and largest x, smallest and largest y that contains a white pixel, so that we can crop it to measure asymmetry\n",
    "def get_extremes(image):\n",
    "    non_zeros = np.nonzero(image)\n",
    "    return min(non_zeros[1]), max(non_zeros[1]), min(non_zeros[0]), max(non_zeros[0])\n",
    "\n",
    "# Crops both the image and the mask to the actual size of the mask, saves to files\n",
    "# Returns cropped image and mask in the array\n",
    "def crop(image_id):\n",
    "    path = 'data/example_image'\n",
    "    path_cropped = path + '_cropped'\n",
    "    path_mask = 'data/example_segmentation'\n",
    "    path_mask_cropped = path_mask + '_cropped'\n",
    "    if os.path.exists(path_cropped + image_id + '.jpg'):\n",
    "        image = plt.imread(path_cropped + '/' + image_id + '.jpg')\n",
    "        mask = plt.imread(path_mask_cropped + '/' + image_id + '.png')\n",
    "        return image, mask\n",
    "    if not os.path.exists(path_cropped):\n",
    "        os.mkdir(path_cropped)\n",
    "        os.mkdir(path_mask_cropped)\n",
    "    image = plt.imread(path + '/' + image_id + '.jpg')\n",
    "    mask = plt.imread(path_mask + '/' + image_id + '_segmentation.png')\n",
    "    min_x, max_x, min_y, max_y = get_extremes(mask)\n",
    "    mask = mask[min_y:max_y+1, min_x:max_x+1]\n",
    "    plt.imsave(path_mask_cropped + '/' + image_id + '.png', mask, cmap=plt.cm.gray)\n",
    "    # TODO: replace irrelevant parts with black\n",
    "    image = image[min_y:max_y+1, min_x:max_x+1, :]\n",
    "    plt.imsave(path_cropped + '/' + image_id + '.jpg', image)   \n",
    "    return mask, image\n",
    "\n",
    "# Returns asymmetry score of an image in vertical and horizontal axises.\n",
    "# 0 is a perfect circle, 1 has all the quarters of an image completely different\n",
    "def asymmetry_score(image):\n",
    "    print(np.shape(image))\n",
    "    height, width = np.shape(image)\n",
    "    if width % 2:\n",
    "        # halves need to be the same size to compare them\n",
    "        left_half = image[:, 0:width//2+1]\n",
    "    else:\n",
    "        left_half = image[:, 0:width//2]\n",
    "    right_half = np.flip(image[:, width//2:], 1)\n",
    "    if height % 2:\n",
    "        top_half = image[0:height//2+1, :]\n",
    "    else:\n",
    "        top_half = image[0:height//2, :]\n",
    "    bottom_half = np.flip(image[height//2:, :], 0)\n",
    "    hor_diff = np.where(left_half != right_half, 1, 0)\n",
    "    ver_diff = np.where(top_half != bottom_half, 1, 0)\n",
    "    return (np.sum(hor_diff) + np.sum(ver_diff)) / width / height"
   ]
  },
  {
   "cell_type": "code",
   "execution_count": 5,
   "id": "840ddef2",
   "metadata": {},
   "outputs": [
    {
     "name": "stdout",
     "output_type": "stream",
     "text": [
      "(521, 688, 3)\n"
     ]
    },
    {
     "ename": "ValueError",
     "evalue": "too many values to unpack (expected 2)",
     "output_type": "error",
     "traceback": [
      "\u001b[0;31m---------------------------------------------------------------------------\u001b[0m",
      "\u001b[0;31mValueError\u001b[0m                                Traceback (most recent call last)",
      "Input \u001b[0;32mIn [5]\u001b[0m, in \u001b[0;36m<cell line: 7>\u001b[0;34m()\u001b[0m\n\u001b[1;32m      7\u001b[0m \u001b[38;5;28;01mfor\u001b[39;00m i \u001b[38;5;129;01min\u001b[39;00m \u001b[38;5;28mrange\u001b[39m(df_evaluations\u001b[38;5;241m.\u001b[39mshape[\u001b[38;5;241m0\u001b[39m]):\n\u001b[1;32m      8\u001b[0m     image, mask \u001b[38;5;241m=\u001b[39m crop(df_evaluations\u001b[38;5;241m.\u001b[39mat[i, \u001b[38;5;124m'\u001b[39m\u001b[38;5;124mimage_id\u001b[39m\u001b[38;5;124m'\u001b[39m])\n\u001b[0;32m----> 9\u001b[0m     df_evaluations\u001b[38;5;241m.\u001b[39mat[i, \u001b[38;5;124m'\u001b[39m\u001b[38;5;124masymmetry\u001b[39m\u001b[38;5;124m'\u001b[39m] \u001b[38;5;241m=\u001b[39m \u001b[43masymmetry_score\u001b[49m\u001b[43m(\u001b[49m\u001b[43mmask\u001b[49m\u001b[43m)\u001b[49m\n\u001b[1;32m     10\u001b[0m     area, perimeter \u001b[38;5;241m=\u001b[39m measure_area_perimeter(mask)\n\u001b[1;32m     11\u001b[0m     df_evaluations\u001b[38;5;241m.\u001b[39mat[i, \u001b[38;5;124m'\u001b[39m\u001b[38;5;124mborder\u001b[39m\u001b[38;5;124m'\u001b[39m] \u001b[38;5;241m=\u001b[39m get_compactness(area, perimeter)\n",
      "Input \u001b[0;32mIn [4]\u001b[0m, in \u001b[0;36masymmetry_score\u001b[0;34m(image)\u001b[0m\n\u001b[1;32m     35\u001b[0m \u001b[38;5;28;01mdef\u001b[39;00m \u001b[38;5;21masymmetry_score\u001b[39m(image):\n\u001b[1;32m     36\u001b[0m     \u001b[38;5;28mprint\u001b[39m(np\u001b[38;5;241m.\u001b[39mshape(image))\n\u001b[0;32m---> 37\u001b[0m     height, width \u001b[38;5;241m=\u001b[39m np\u001b[38;5;241m.\u001b[39mshape(image)\n\u001b[1;32m     38\u001b[0m     \u001b[38;5;28;01mif\u001b[39;00m width \u001b[38;5;241m%\u001b[39m \u001b[38;5;241m2\u001b[39m:\n\u001b[1;32m     39\u001b[0m         \u001b[38;5;66;03m# halves need to be the same size to compare them\u001b[39;00m\n\u001b[1;32m     40\u001b[0m         left_half \u001b[38;5;241m=\u001b[39m image[:, \u001b[38;5;241m0\u001b[39m:width\u001b[38;5;241m/\u001b[39m\u001b[38;5;241m/\u001b[39m\u001b[38;5;241m2\u001b[39m\u001b[38;5;241m+\u001b[39m\u001b[38;5;241m1\u001b[39m]\n",
      "\u001b[0;31mValueError\u001b[0m: too many values to unpack (expected 2)"
     ]
    }
   ],
   "source": [
    "# Import a data frame with file names and associated diseases\n",
    "df_conditions = pd.read_csv('data/example_ground_truth.csv')\n",
    "\n",
    "df_evaluations = pd.DataFrame(df_conditions['image_id'])\n",
    "for name in ['asymmetry', 'border', 'color']:\n",
    "    df_evaluations[name] = 0.0\n",
    "for i in range(df_evaluations.shape[0]):\n",
    "    image, mask = crop(df_evaluations.at[i, 'image_id'])\n",
    "    df_evaluations.at[i, 'asymmetry'] = asymmetry_score(mask)\n",
    "    area, perimeter = measure_area_perimeter(mask)\n",
    "    df_evaluations.at[i, 'border'] = get_compactness(area, perimeter)"
   ]
  },
  {
   "cell_type": "code",
   "execution_count": null,
   "id": "fc371e6e",
   "metadata": {
    "scrolled": true
   },
   "outputs": [],
   "source": [
    "np.sum(df_evaluations[\"border\"] < 1)\n",
    "df_evaluations"
   ]
  },
  {
   "cell_type": "code",
   "execution_count": null,
   "id": "5f652ddd",
   "metadata": {},
   "outputs": [],
   "source": [
    "mask = plt.imread('data/example_segmentation/ISIC_0001769_segmentation.png')\n",
    "image = plt.imread('data/example_image/ISIC_0001769.jpg')\n",
    "np.shape(image)"
   ]
  }
 ],
 "metadata": {
  "kernelspec": {
   "display_name": "Python 3 (ipykernel)",
   "language": "python",
   "name": "python3"
  },
  "language_info": {
   "codemirror_mode": {
    "name": "ipython",
    "version": 3
   },
   "file_extension": ".py",
   "mimetype": "text/x-python",
   "name": "python",
   "nbconvert_exporter": "python",
   "pygments_lexer": "ipython3",
   "version": "3.10.2"
  }
 },
 "nbformat": 4,
 "nbformat_minor": 5
}
