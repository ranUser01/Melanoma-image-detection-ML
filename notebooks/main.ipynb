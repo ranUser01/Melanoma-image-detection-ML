{
 "cells": [
  {
   "cell_type": "markdown",
   "id": "1021c5ff",
   "metadata": {},
   "source": [
    "# Imports"
   ]
  },
  {
   "cell_type": "code",
   "execution_count": 26,
   "id": "a3d7f61b",
   "metadata": {},
   "outputs": [],
   "source": [
    "# imports, including functions provided with the starter\n",
    "import pandas as pd\n",
    "import numpy as np\n",
    "import matplotlib.pyplot as plt\n",
    "import os\n",
    "from matplotlib.colors import ListedColormap\n",
    "from sklearn.metrics import confusion_matrix\n",
    "from sklearn.model_selection import train_test_split\n",
    "from sklearn.neighbors import KNeighborsClassifier\n",
    "from sklearn.tree import DecisionTreeClassifier\n",
    "# additional libraries, to be install using pip\n",
    "import seaborn as sns\n",
    "from imblearn.over_sampling import SMOTE # imbalanced-learn\n",
    "#\n",
    "import matplotlib.pyplot as plt\n",
    "\n",
    "if 'notebooks' in os.getcwd():\n",
    "    os.chdir('..')\n",
    "\n",
    "from groupXY_functions import *\n"
   ]
  },
  {
   "cell_type": "markdown",
   "id": "8f3e9a0a",
   "metadata": {},
   "source": [
    "# Defining functions and preprocessing"
   ]
  },
  {
   "cell_type": "code",
   "execution_count": 2,
   "id": "3d74d5d6",
   "metadata": {},
   "outputs": [],
   "source": [
    "# Return smallest and largest x, smallest and largest y that contains a white pixel, so that we can crop it to measure asymmetry\n",
    "def get_extremes(image):\n",
    "    non_zeros = np.nonzero(image)\n",
    "    return min(non_zeros[1]), max(non_zeros[1]), min(non_zeros[0]), max(non_zeros[0])"
   ]
  },
  {
   "cell_type": "code",
   "execution_count": 17,
   "id": "e567710b",
   "metadata": {},
   "outputs": [],
   "source": [
    "# Crops both the image and the mask to the actual size of the mask, saves to files\n",
    "# Returns cropped image and mask in the array\n",
    "def crop(image_id):\n",
    "    path = 'data/example_image'\n",
    "    path_cropped = path + '_cropped'\n",
    "    path_mask = 'data/example_segmentation'\n",
    "    path_mask_cropped = path_mask + '_cropped'\n",
    "    if os.path.exists(path_cropped + image_id + '.jpg'):\n",
    "        image = plt.imread(path_cropped + '/' + image_id + '.jpg')\n",
    "        mask = plt.imread(path_mask_cropped + '/' + image_id + '.png')\n",
    "        return image, mask\n",
    "    if not os.path.exists(path_cropped):\n",
    "        os.mkdir(path_cropped)\n",
    "        os.mkdir(path_mask_cropped)\n",
    "    image = plt.imread(path + '/' + image_id + '.jpg')\n",
    "    mask = plt.imread(path_mask + '/' + image_id + '_segmentation.png')\n",
    "    min_x, max_x, min_y, max_y = get_extremes(mask)\n",
    "    mask = mask[min_y:max_y+1, min_x:max_x+1]\n",
    "    plt.imsave(path_mask_cropped + '/' + image_id + '.png', mask, cmap=plt.cm.gray)\n",
    "    image_cropped = image.copy()[min_y:max_y+1, min_x:max_x+1, :]\n",
    "    to_black = mask==0\n",
    "    image_cropped[to_black] = (0,0,0)\n",
    "    plt.imsave(path_cropped + '/' + image_id + '.jpg', image_cropped)\n",
    "    return image, mask"
   ]
  },
  {
   "cell_type": "code",
   "execution_count": 4,
   "id": "5703c959",
   "metadata": {},
   "outputs": [],
   "source": [
    "# Assymetry function\n",
    "# 0 is a perfect circle, 1 has all the quarters of an image completely different\n",
    "def asymmetry_score(image):\n",
    "\n",
    "    height, width = np.shape(image)\n",
    "    if width % 2:\n",
    "        # Subparts need to be the same size to compare them\n",
    "        left_half = image[:, 0:width//2+1]\n",
    "    else:\n",
    "        left_half = image[:, 0:width//2]\n",
    "    # \"folding\" on vertical axis\n",
    "    right_half = np.flip(image[:, width//2:], 1)\n",
    "    \n",
    "    if height % 2:\n",
    "        top_half = image[0:height//2+1, :]\n",
    "    else:\n",
    "        top_half = image[0:height//2, :]\n",
    "    # \"folding\" on hotizontal axis\n",
    "    bottom_half = np.flip(image[height//2:, :], 0)\n",
    "    \n",
    "    hor_diff = np.where(left_half != right_half, 1, 0)\n",
    "    ver_diff = np.where(top_half != bottom_half, 1, 0)\n",
    "    return round((np.sum(hor_diff) + np.sum(ver_diff)) / (width * height),3)"
   ]
  },
  {
   "cell_type": "code",
   "execution_count": 5,
   "id": "080d1244",
   "metadata": {},
   "outputs": [],
   "source": [
    "# Border function, compactness\n",
    "# Due to inherit limitations of digital images, for some masks returend compactness value is below 1, which is wrong.\n",
    "# Nonetheless, such an imprecission is acceptable given that multiple variables are considred in diagnoses \n",
    "def get_compactness(area, perimeter):\n",
    "    return round(perimeter**2 / (4 * np.pi * area),3)"
   ]
  },
  {
   "cell_type": "code",
   "execution_count": 6,
   "id": "40f9b52f",
   "metadata": {},
   "outputs": [],
   "source": [
    "def colour_extraction (cropped_image):\n",
    "    \n",
    "    # split the image into its respective RGB components\n",
    "    r, g, b = np.array_split(cropped_image, 3, 2)\n",
    "    \n",
    "    return r,g,b\n",
    "\n",
    "def colour_variance_avg(r,g,b):\n",
    "    return np.mean((np.var(r[r>0]),np.var(g[g>0]),np.var(b[b>0])))"
   ]
  },
  {
   "cell_type": "code",
   "execution_count": 7,
   "id": "bca94b3d",
   "metadata": {},
   "outputs": [],
   "source": [
    "def sensitivity(tp, fn):\n",
    "    return tp / (tp + fn)\n",
    "\n",
    "def specificity(tn, fp):\n",
    "    return tn / (tn + fp)"
   ]
  },
  {
   "cell_type": "code",
   "execution_count": 12,
   "id": "840ddef2",
   "metadata": {},
   "outputs": [],
   "source": [
    "# Import a data frame with file names and associated diseases\n",
    "df_conditions = pd.read_csv('data/example_ground_truth.csv')\n",
    "\n",
    "# A new data frame is created, which will store results of ABC tests \n",
    "df_evaluations = pd.DataFrame(df_conditions['image_id'])\n",
    "for name in ['asymmetry', 'border', 'colour']:\n",
    "    df_evaluations[name] = 0.0\n",
    "    \n",
    "for i in range(df_evaluations.shape[0]):\n",
    "    image, mask = crop(df_evaluations.at[i, 'image_id'])\n",
    "    df_evaluations.at[i, 'asymmetry'] = asymmetry_score(mask)\n",
    "    area, perimeter = measure_area_perimeter(mask)\n",
    "    df_evaluations.at[i, 'border'] = get_compactness(area, perimeter)\n",
    "    r,g,b = colour_extraction(image)\n",
    "    df_evaluations.at[i,'colour'] = colour_variance_avg(r,g,b)"
   ]
  },
  {
   "cell_type": "markdown",
   "id": "f35e7e58",
   "metadata": {
    "scrolled": true
   },
   "source": [
    "# Standarisation of features' values"
   ]
  },
  {
   "cell_type": "code",
   "execution_count": null,
   "id": "34a36b4a",
   "metadata": {},
   "outputs": [],
   "source": [
    "#data before standarisation\n",
    "fig, axs = plt.subplots(3,figsize=(10,12))\n",
    "axs[0].hist(df_evaluations['asymmetry'])\n",
    "axs[1].hist(df_evaluations['border'])\n",
    "axs[2].hist(df_evaluations['colour'])\n",
    "fig.tight_layout()\n"
   ]
  },
  {
   "cell_type": "code",
   "execution_count": null,
   "id": "e87888b6",
   "metadata": {},
   "outputs": [],
   "source": [
    "df_evaluations"
   ]
  },
  {
   "cell_type": "code",
   "execution_count": 14,
   "id": "5f652ddd",
   "metadata": {},
   "outputs": [],
   "source": [
    "for name in ['asymmetry', 'border', 'colour']:\n",
    "    mean = np.mean(df_evaluations[name])\n",
    "    sd = np.std(df_evaluations[name])\n",
    "    for i in range(df_evaluations.shape[0]):\n",
    "        df_evaluations.at[i, name] = (df_evaluations.at[i, name] - mean) / sd"
   ]
  },
  {
   "cell_type": "code",
   "execution_count": 15,
   "id": "5c5a7ec9",
   "metadata": {},
   "outputs": [
    {
     "data": {
      "text/html": [
       "<div>\n",
       "<style scoped>\n",
       "    .dataframe tbody tr th:only-of-type {\n",
       "        vertical-align: middle;\n",
       "    }\n",
       "\n",
       "    .dataframe tbody tr th {\n",
       "        vertical-align: top;\n",
       "    }\n",
       "\n",
       "    .dataframe thead th {\n",
       "        text-align: right;\n",
       "    }\n",
       "</style>\n",
       "<table border=\"1\" class=\"dataframe\">\n",
       "  <thead>\n",
       "    <tr style=\"text-align: right;\">\n",
       "      <th></th>\n",
       "      <th>image_id</th>\n",
       "      <th>asymmetry</th>\n",
       "      <th>border</th>\n",
       "      <th>colour</th>\n",
       "    </tr>\n",
       "  </thead>\n",
       "  <tbody>\n",
       "    <tr>\n",
       "      <th>0</th>\n",
       "      <td>ISIC_0001769</td>\n",
       "      <td>-0.023781</td>\n",
       "      <td>0.578983</td>\n",
       "      <td>-0.174316</td>\n",
       "    </tr>\n",
       "    <tr>\n",
       "      <th>1</th>\n",
       "      <td>ISIC_0001852</td>\n",
       "      <td>-0.709402</td>\n",
       "      <td>-0.476142</td>\n",
       "      <td>0.245641</td>\n",
       "    </tr>\n",
       "    <tr>\n",
       "      <th>2</th>\n",
       "      <td>ISIC_0001871</td>\n",
       "      <td>0.612156</td>\n",
       "      <td>-0.442752</td>\n",
       "      <td>-0.137239</td>\n",
       "    </tr>\n",
       "    <tr>\n",
       "      <th>3</th>\n",
       "      <td>ISIC_0003462</td>\n",
       "      <td>-1.365212</td>\n",
       "      <td>-1.012609</td>\n",
       "      <td>0.392070</td>\n",
       "    </tr>\n",
       "    <tr>\n",
       "      <th>4</th>\n",
       "      <td>ISIC_0003539</td>\n",
       "      <td>2.172190</td>\n",
       "      <td>-0.311418</td>\n",
       "      <td>0.478796</td>\n",
       "    </tr>\n",
       "    <tr>\n",
       "      <th>...</th>\n",
       "      <td>...</td>\n",
       "      <td>...</td>\n",
       "      <td>...</td>\n",
       "      <td>...</td>\n",
       "    </tr>\n",
       "    <tr>\n",
       "      <th>145</th>\n",
       "      <td>ISIC_0015443</td>\n",
       "      <td>-0.977688</td>\n",
       "      <td>-0.039845</td>\n",
       "      <td>-0.709203</td>\n",
       "    </tr>\n",
       "    <tr>\n",
       "      <th>146</th>\n",
       "      <td>ISIC_0015445</td>\n",
       "      <td>3.702415</td>\n",
       "      <td>2.646940</td>\n",
       "      <td>1.660420</td>\n",
       "    </tr>\n",
       "    <tr>\n",
       "      <th>147</th>\n",
       "      <td>ISIC_0015483</td>\n",
       "      <td>-1.245974</td>\n",
       "      <td>0.550045</td>\n",
       "      <td>0.628639</td>\n",
       "    </tr>\n",
       "    <tr>\n",
       "      <th>148</th>\n",
       "      <td>ISIC_0015496</td>\n",
       "      <td>0.035838</td>\n",
       "      <td>0.652441</td>\n",
       "      <td>4.570101</td>\n",
       "    </tr>\n",
       "    <tr>\n",
       "      <th>149</th>\n",
       "      <td>ISIC_0015627</td>\n",
       "      <td>0.512791</td>\n",
       "      <td>0.888398</td>\n",
       "      <td>-0.506989</td>\n",
       "    </tr>\n",
       "  </tbody>\n",
       "</table>\n",
       "<p>150 rows × 4 columns</p>\n",
       "</div>"
      ],
      "text/plain": [
       "         image_id  asymmetry    border    colour\n",
       "0    ISIC_0001769  -0.023781  0.578983 -0.174316\n",
       "1    ISIC_0001852  -0.709402 -0.476142  0.245641\n",
       "2    ISIC_0001871   0.612156 -0.442752 -0.137239\n",
       "3    ISIC_0003462  -1.365212 -1.012609  0.392070\n",
       "4    ISIC_0003539   2.172190 -0.311418  0.478796\n",
       "..            ...        ...       ...       ...\n",
       "145  ISIC_0015443  -0.977688 -0.039845 -0.709203\n",
       "146  ISIC_0015445   3.702415  2.646940  1.660420\n",
       "147  ISIC_0015483  -1.245974  0.550045  0.628639\n",
       "148  ISIC_0015496   0.035838  0.652441  4.570101\n",
       "149  ISIC_0015627   0.512791  0.888398 -0.506989\n",
       "\n",
       "[150 rows x 4 columns]"
      ]
     },
     "execution_count": 15,
     "metadata": {},
     "output_type": "execute_result"
    }
   ],
   "source": [
    "df_evaluations"
   ]
  },
  {
   "cell_type": "code",
   "execution_count": null,
   "id": "32dbf715",
   "metadata": {},
   "outputs": [],
   "source": [
    "#data after standarisation\n",
    "fig, axs = plt.subplots(3,figsize=(10,12))\n",
    "axs[0].hist(df_evaluations['asymmetry'])\n",
    "axs[1].hist(df_evaluations['border'])\n",
    "axs[2].hist(df_evaluations['colour'])\n",
    "fig.tight_layout()"
   ]
  },
  {
   "cell_type": "code",
   "execution_count": null,
   "id": "1be51039",
   "metadata": {},
   "outputs": [],
   "source": [
    "##Loading data#"
   ]
  },
  {
   "cell_type": "code",
   "execution_count": 19,
   "id": "b75c86c3",
   "metadata": {
    "scrolled": true
   },
   "outputs": [
    {
     "name": "stdout",
     "output_type": "stream",
     "text": [
      "   melanoma  asymmetry    border    colour\n",
      "0       0.0  -0.023781  0.578983 -0.174316\n",
      "1       0.0  -0.709402 -0.476142  0.245641\n",
      "2       0.0   0.612156 -0.442752 -0.137239\n",
      "3       0.0  -1.365212 -1.012609  0.392070\n",
      "4       0.0   2.172190 -0.311418  0.478796\n"
     ]
    }
   ],
   "source": [
    "df = df_conditions.drop('seborrheic_keratosis', axis=1).merge(df_evaluations, on='image_id').drop('image_id', axis=1)\n",
    "print(df.head())"
   ]
  },
  {
   "cell_type": "code",
   "execution_count": 22,
   "id": "303e2892",
   "metadata": {},
   "outputs": [],
   "source": [
    "# Split dataset to select feature and evaluate the classifier\n",
    "x = df[['asymmetry', 'border', 'colour']]\n",
    "y = df['melanoma']\n",
    "\n",
    "# X_train and y_train used for training, X_val and y_val are for predicting and validating the ML model\n",
    "x_train, x_val, y_train, y_val = train_test_split(\n",
    "        x, y, stratify=y, test_size=0.4, random_state=0)\n",
    "sm = SMOTE(random_state=0)\n",
    "x_train, y_train = sm.fit_resample(x_train, y_train)"
   ]
  },
  {
   "cell_type": "code",
   "execution_count": 37,
   "id": "42346642",
   "metadata": {},
   "outputs": [
    {
     "name": "stderr",
     "output_type": "stream",
     "text": [
      "/usr/lib/python3.10/site-packages/sklearn/base.py:450: UserWarning: X does not have valid feature names, but KNeighborsClassifier was fitted with feature names\n",
      "  warnings.warn(\n"
     ]
    },
    {
     "ename": "ValueError",
     "evalue": "X has 2 features, but KNeighborsClassifier is expecting 3 features as input.",
     "output_type": "error",
     "traceback": [
      "\u001b[0;31m---------------------------------------------------------------------------\u001b[0m",
      "\u001b[0;31mValueError\u001b[0m                                Traceback (most recent call last)",
      "Input \u001b[0;32mIn [37]\u001b[0m, in \u001b[0;36m<cell line: 3>\u001b[0;34m()\u001b[0m\n\u001b[1;32m     14\u001b[0m clf \u001b[38;5;241m=\u001b[39m  KNeighborsClassifier(n_neighbors)\n\u001b[1;32m     15\u001b[0m clf\u001b[38;5;241m.\u001b[39mfit(x_val, y_val)\n\u001b[0;32m---> 16\u001b[0m Z \u001b[38;5;241m=\u001b[39m \u001b[43mclf\u001b[49m\u001b[38;5;241;43m.\u001b[39;49m\u001b[43mpredict\u001b[49m\u001b[43m(\u001b[49m\u001b[43mnp\u001b[49m\u001b[38;5;241;43m.\u001b[39;49m\u001b[43mc_\u001b[49m\u001b[43m[\u001b[49m\u001b[43mxx\u001b[49m\u001b[38;5;241;43m.\u001b[39;49m\u001b[43mravel\u001b[49m\u001b[43m(\u001b[49m\u001b[43m)\u001b[49m\u001b[43m,\u001b[49m\u001b[43m \u001b[49m\u001b[43myy\u001b[49m\u001b[38;5;241;43m.\u001b[39;49m\u001b[43mravel\u001b[49m\u001b[43m(\u001b[49m\u001b[43m)\u001b[49m\u001b[43m]\u001b[49m\u001b[43m)\u001b[49m\n\u001b[1;32m     17\u001b[0m Z \u001b[38;5;241m=\u001b[39m Z\u001b[38;5;241m.\u001b[39mreshape(xx\u001b[38;5;241m.\u001b[39mshape)\n\u001b[1;32m     18\u001b[0m plt\u001b[38;5;241m.\u001b[39mfigure(figsize\u001b[38;5;241m=\u001b[39m(\u001b[38;5;241m8\u001b[39m, \u001b[38;5;241m6\u001b[39m))\n",
      "File \u001b[0;32m/usr/lib/python3.10/site-packages/sklearn/neighbors/_classification.py:214\u001b[0m, in \u001b[0;36mKNeighborsClassifier.predict\u001b[0;34m(self, X)\u001b[0m\n\u001b[1;32m    200\u001b[0m \u001b[38;5;28;01mdef\u001b[39;00m \u001b[38;5;21mpredict\u001b[39m(\u001b[38;5;28mself\u001b[39m, X):\n\u001b[1;32m    201\u001b[0m     \u001b[38;5;124;03m\"\"\"Predict the class labels for the provided data.\u001b[39;00m\n\u001b[1;32m    202\u001b[0m \n\u001b[1;32m    203\u001b[0m \u001b[38;5;124;03m    Parameters\u001b[39;00m\n\u001b[0;32m   (...)\u001b[0m\n\u001b[1;32m    212\u001b[0m \u001b[38;5;124;03m        Class labels for each data sample.\u001b[39;00m\n\u001b[1;32m    213\u001b[0m \u001b[38;5;124;03m    \"\"\"\u001b[39;00m\n\u001b[0;32m--> 214\u001b[0m     neigh_dist, neigh_ind \u001b[38;5;241m=\u001b[39m \u001b[38;5;28;43mself\u001b[39;49m\u001b[38;5;241;43m.\u001b[39;49m\u001b[43mkneighbors\u001b[49m\u001b[43m(\u001b[49m\u001b[43mX\u001b[49m\u001b[43m)\u001b[49m\n\u001b[1;32m    215\u001b[0m     classes_ \u001b[38;5;241m=\u001b[39m \u001b[38;5;28mself\u001b[39m\u001b[38;5;241m.\u001b[39mclasses_\n\u001b[1;32m    216\u001b[0m     _y \u001b[38;5;241m=\u001b[39m \u001b[38;5;28mself\u001b[39m\u001b[38;5;241m.\u001b[39m_y\n",
      "File \u001b[0;32m/usr/lib/python3.10/site-packages/sklearn/neighbors/_base.py:717\u001b[0m, in \u001b[0;36mKNeighborsMixin.kneighbors\u001b[0;34m(self, X, n_neighbors, return_distance)\u001b[0m\n\u001b[1;32m    715\u001b[0m         X \u001b[38;5;241m=\u001b[39m _check_precomputed(X)\n\u001b[1;32m    716\u001b[0m     \u001b[38;5;28;01melse\u001b[39;00m:\n\u001b[0;32m--> 717\u001b[0m         X \u001b[38;5;241m=\u001b[39m \u001b[38;5;28;43mself\u001b[39;49m\u001b[38;5;241;43m.\u001b[39;49m\u001b[43m_validate_data\u001b[49m\u001b[43m(\u001b[49m\u001b[43mX\u001b[49m\u001b[43m,\u001b[49m\u001b[43m \u001b[49m\u001b[43maccept_sparse\u001b[49m\u001b[38;5;241;43m=\u001b[39;49m\u001b[38;5;124;43m\"\u001b[39;49m\u001b[38;5;124;43mcsr\u001b[39;49m\u001b[38;5;124;43m\"\u001b[39;49m\u001b[43m,\u001b[49m\u001b[43m \u001b[49m\u001b[43mreset\u001b[49m\u001b[38;5;241;43m=\u001b[39;49m\u001b[38;5;28;43;01mFalse\u001b[39;49;00m\u001b[43m)\u001b[49m\n\u001b[1;32m    718\u001b[0m \u001b[38;5;28;01melse\u001b[39;00m:\n\u001b[1;32m    719\u001b[0m     query_is_train \u001b[38;5;241m=\u001b[39m \u001b[38;5;28;01mTrue\u001b[39;00m\n",
      "File \u001b[0;32m/usr/lib/python3.10/site-packages/sklearn/base.py:585\u001b[0m, in \u001b[0;36mBaseEstimator._validate_data\u001b[0;34m(self, X, y, reset, validate_separately, **check_params)\u001b[0m\n\u001b[1;32m    582\u001b[0m     out \u001b[38;5;241m=\u001b[39m X, y\n\u001b[1;32m    584\u001b[0m \u001b[38;5;28;01mif\u001b[39;00m \u001b[38;5;129;01mnot\u001b[39;00m no_val_X \u001b[38;5;129;01mand\u001b[39;00m check_params\u001b[38;5;241m.\u001b[39mget(\u001b[38;5;124m\"\u001b[39m\u001b[38;5;124mensure_2d\u001b[39m\u001b[38;5;124m\"\u001b[39m, \u001b[38;5;28;01mTrue\u001b[39;00m):\n\u001b[0;32m--> 585\u001b[0m     \u001b[38;5;28;43mself\u001b[39;49m\u001b[38;5;241;43m.\u001b[39;49m\u001b[43m_check_n_features\u001b[49m\u001b[43m(\u001b[49m\u001b[43mX\u001b[49m\u001b[43m,\u001b[49m\u001b[43m \u001b[49m\u001b[43mreset\u001b[49m\u001b[38;5;241;43m=\u001b[39;49m\u001b[43mreset\u001b[49m\u001b[43m)\u001b[49m\n\u001b[1;32m    587\u001b[0m \u001b[38;5;28;01mreturn\u001b[39;00m out\n",
      "File \u001b[0;32m/usr/lib/python3.10/site-packages/sklearn/base.py:400\u001b[0m, in \u001b[0;36mBaseEstimator._check_n_features\u001b[0;34m(self, X, reset)\u001b[0m\n\u001b[1;32m    397\u001b[0m     \u001b[38;5;28;01mreturn\u001b[39;00m\n\u001b[1;32m    399\u001b[0m \u001b[38;5;28;01mif\u001b[39;00m n_features \u001b[38;5;241m!=\u001b[39m \u001b[38;5;28mself\u001b[39m\u001b[38;5;241m.\u001b[39mn_features_in_:\n\u001b[0;32m--> 400\u001b[0m     \u001b[38;5;28;01mraise\u001b[39;00m \u001b[38;5;167;01mValueError\u001b[39;00m(\n\u001b[1;32m    401\u001b[0m         \u001b[38;5;124mf\u001b[39m\u001b[38;5;124m\"\u001b[39m\u001b[38;5;124mX has \u001b[39m\u001b[38;5;132;01m{\u001b[39;00mn_features\u001b[38;5;132;01m}\u001b[39;00m\u001b[38;5;124m features, but \u001b[39m\u001b[38;5;132;01m{\u001b[39;00m\u001b[38;5;28mself\u001b[39m\u001b[38;5;241m.\u001b[39m\u001b[38;5;18m__class__\u001b[39m\u001b[38;5;241m.\u001b[39m\u001b[38;5;18m__name__\u001b[39m\u001b[38;5;132;01m}\u001b[39;00m\u001b[38;5;124m \u001b[39m\u001b[38;5;124m\"\u001b[39m\n\u001b[1;32m    402\u001b[0m         \u001b[38;5;124mf\u001b[39m\u001b[38;5;124m\"\u001b[39m\u001b[38;5;124mis expecting \u001b[39m\u001b[38;5;132;01m{\u001b[39;00m\u001b[38;5;28mself\u001b[39m\u001b[38;5;241m.\u001b[39mn_features_in_\u001b[38;5;132;01m}\u001b[39;00m\u001b[38;5;124m features as input.\u001b[39m\u001b[38;5;124m\"\u001b[39m\n\u001b[1;32m    403\u001b[0m     )\n",
      "\u001b[0;31mValueError\u001b[0m: X has 2 features, but KNeighborsClassifier is expecting 3 features as input."
     ]
    }
   ],
   "source": [
    "accuracy = dict()\n",
    "\n",
    "# TODO\n",
    "\n",
    "for n_neighbors in [5]: #range(1, 10):\n",
    "    # Train a classifier\n",
    "    knn = KNeighborsClassifier(n_neighbors) # other hyperparameters possible\n",
    "    knn_trained = knn.fit(x_train, y_train)\n",
    "    y_val_knn = knn_trained.predict(x_val)\n",
    "    # Accuracy - often used in ML but not suitable for medical imaging in general\n",
    "    tn, fp, fn, tp = confusion_matrix(y_val, y_val_knn).ravel()\n",
    "    accuracy[n_neighbors] = [np.sum(y_val_knn == y_val) / np.size(y_val) * 100, sensitivity(tp, fn), specificity(tn, fp)]\n",
    "    x_min, x_max = x_val['asymmetry'].min() - 1, x_val['asymmetry'].max() + 1\n",
    "    y_min, y_max = x_val['border'].min() - 1, x_val['border'].max() + 1\n",
    "    xx, yy = np.meshgrid(np.arange(x_min, x_max, .02), np.arange(y_min, y_max, .02))\n",
    "    clf =  KNeighborsClassifier(n_neighbors)\n",
    "    clf.fit(x_val, y_val)\n",
    "    Z = clf.predict(np.c_[xx.ravel(), yy.ravel()])\n",
    "    Z = Z.reshape(xx.shape)\n",
    "    plt.figure(figsize=(8, 6))\n",
    "    plt.contourf(xx, yy, Z)\n",
    "    sns.scatterplot(x=x_val['asymmetry'], y=x_val['border'], hue=y_val)\n",
    "    #knn_vis(x_val, knn_trained)\n",
    "    \n",
    "accuracy"
   ]
  },
  {
   "cell_type": "markdown",
   "id": "85c1e504",
   "metadata": {},
   "source": [
    "# KNN Visualization"
   ]
  },
  {
   "cell_type": "code",
   "execution_count": 30,
   "id": "ee6d2966",
   "metadata": {},
   "outputs": [],
   "source": [
    "def knn_vis(x_val, knn_trained):\n",
    "    h = .02\n",
    "    cmap_light = ListedColormap(['orange', 'cornflowerblue'])\n",
    "    cmap_bold = ['darkorange', 'darkblue']\n",
    "    x_min, x_max = x_val['asymmetry'].min() - 1, x_val['asymmetry'].max() + 1\n",
    "    y_min, y_max = x_val['border'].min() - 1, x_val['border'].max() + 1\n",
    "    xx, yy = np.meshgrid(np.arange(x_min, x_max, h), np.arange(y_min, y_max, h))\n",
    "    Z = knn_trained.predict(np.c_[xx.ravel(), yy.ravel()])\n",
    "    \n",
    "    Z = Z.reshape(xx.shape)\n",
    "    plt.figure(figsize=(8, 6))\n",
    "    plt.contourf(xx, yy, Z, cmap=cmap_light)\n",
    "\n",
    "    # Plot also the training points\n",
    "    sns.scatterplot(\n",
    "        x=X[:, 0],\n",
    "        y=X[:, 1],\n",
    "        hue=iris.target_names[y],\n",
    "        palette=cmap_bold,\n",
    "        alpha=1.0,\n",
    "        edgecolor=\"black\",\n",
    "    )\n",
    "    plt.xlim(xx.min(), xx.max())\n",
    "    plt.ylim(yy.min(), yy.max())\n",
    "    plt.title(\n",
    "        \"3-Class classification (k = %i, weights = '%s')\" % (n_neighbors, weights)\n",
    "    )\n",
    "    plt.xlabel(iris.feature_names[0])\n",
    "    plt.ylabel(iris.feature_names[1])"
   ]
  },
  {
   "cell_type": "markdown",
   "id": "2c66dc11",
   "metadata": {},
   "source": [
    "# Scatters"
   ]
  },
  {
   "cell_type": "code",
   "execution_count": null,
   "id": "ef18a99d",
   "metadata": {},
   "outputs": [],
   "source": [
    "k = pd.read_csv(\"ManualDataAnalysis.csv\")\n",
    "name = k[0:51]\n",
    "asymmetry = name.loc[:,\"Asymmetry\"]\n",
    "border = name.loc[:,\"Border\"]\n",
    "Color = name.loc[:,\"Color\"]\n",
    "Filename = name.loc[:,\"Filename\"]\n",
    "x = range(1,52)\n"
   ]
  },
  {
   "cell_type": "code",
   "execution_count": null,
   "id": "9b3b095c",
   "metadata": {},
   "outputs": [],
   "source": [
    "plt.figure(figsize=(12, 12), dpi=100)\n",
    "\n",
    "plt.subplot(2,3,1)\n",
    "plt.scatter(x,asymmetry,)\n",
    "plt.title(\"Asymetry\")\n",
    "\n",
    "plt.subplot(2,3,2)\n",
    "plt.scatter(x, border)\n",
    "plt.title(\"Border\")\n",
    "\n",
    "plt.subplot(2,3,3)\n",
    "plt.scatter(x, Color)\n",
    "plt.title(\"Color\")\n",
    "\n",
    "plt.suptitle(\"Manual Analysis\")\n",
    "\n"
   ]
  }
 ],
 "metadata": {
  "kernelspec": {
   "display_name": "Python 3 (ipykernel)",
   "language": "python",
   "name": "python3"
  },
  "language_info": {
   "codemirror_mode": {
    "name": "ipython",
    "version": 3
   },
   "file_extension": ".py",
   "mimetype": "text/x-python",
   "name": "python",
   "nbconvert_exporter": "python",
   "pygments_lexer": "ipython3",
   "version": "3.10.4"
  }
 },
 "nbformat": 4,
 "nbformat_minor": 5
}
