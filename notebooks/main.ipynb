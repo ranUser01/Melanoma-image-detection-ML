{
 "cells": [
  {
   "cell_type": "markdown",
   "id": "247153f6",
   "metadata": {},
   "source": [
    "# Project 2: Image Analysis\n",
    "## Detecting skin cancer using Machine Learning\n",
    "----\n",
    "\n",
    "* Group Members:  Janusz Jakub Wilczek, Mariusz Oskar Kurek, Lini Zhang, Julia Trznadel, Mark Oliver Engwald Beth \n",
    "\n",
    "----\n",
    "### Project Description:\n",
    "\n",
    "This project explores how one can use machine learning algorithms, in this case, a KNN classifier, to investigate and predict diagnoses for melanoma.\n",
    "\n",
    "The data used in this project was provided by International Skin Imaging Collaboration (ISIC) and was part of the competition, which took place in 2017. \n",
    "\n",
    "The data consists of skin lesions images and respective binary masks, which facilitate computation of the first three features of the international standard of melanoma diagnoses ABCDE. \n",
    "\n",
    "A - Asymmetry \n",
    "\n",
    "B - Border\n",
    "\n",
    "C - Colour\n",
    "\n",
    "\"Border\" is a proportion between the area and perimeter of a skin lesion.\n",
    "Colour expresses the variance of colours in skin lesions.\n",
    "\n",
    "In general, melanoma tends to be asymmetric, varied in colour, and to have a larger perimeter than the area.\n",
    "Given those three features, one can attempt to diagnose melanoma. Nonetheless, it must be noted that melanoma is a lethal disease. Thus, computer diagnosis can only be used as supportive evidence for trained M.D.\n",
    "\n",
    "Data Source:\n",
    "https://challenge.isic-archive.com/data/#2017\n"
   ]
  },
  {
   "cell_type": "markdown",
   "id": "fc79c0d5",
   "metadata": {},
   "source": [
    "## Imports"
   ]
  },
  {
   "cell_type": "code",
   "execution_count": 1,
   "id": "a3d7f61b",
   "metadata": {},
   "outputs": [],
   "source": [
    "# imports, including functions provided with the starter\n",
    "import pandas as pd\n",
    "import numpy as np \n",
    "import matplotlib.pyplot as plt\n",
    "import os\n",
    "from matplotlib.colors import ListedColormap\n",
    "from sklearn.metrics import confusion_matrix \n",
    "from sklearn.model_selection import train_test_split # to split data\n",
    "from sklearn.neighbors import KNeighborsClassifier # knn  classifier \n",
    "from sklearn.tree import DecisionTreeClassifier # not used \n",
    "\n",
    "# additional libraries, to be install using pip\n",
    "\n",
    "import seaborn as sns\n",
    "from imblearn.over_sampling import SMOTE # imbalanced-learn\n",
    "\n",
    "\n",
    "if 'notebooks' in os.getcwd():\n",
    "    os.chdir('..')\n",
    "\n",
    "from groupXY_functions import *\n"
   ]
  },
  {
   "cell_type": "markdown",
   "id": "8f3e9a0a",
   "metadata": {},
   "source": [
    "## Defining functions and preprocessing"
   ]
  },
  {
   "cell_type": "code",
   "execution_count": 2,
   "id": "3d74d5d6",
   "metadata": {},
   "outputs": [],
   "source": [
    "# Return smallest and largest x, smallest and largest y that contains a white pixel, so that we can crop it to measure asymmetry\n",
    "def get_extremes(image):\n",
    "    non_zeros = np.nonzero(image)\n",
    "    return min(non_zeros[1]), max(non_zeros[1]), min(non_zeros[0]), max(non_zeros[0])"
   ]
  },
  {
   "cell_type": "code",
   "execution_count": 3,
   "id": "e567710b",
   "metadata": {},
   "outputs": [],
   "source": [
    "# Crops both the image and the mask to the actual size of the mask, saves to files\n",
    "# Returns cropped image and mask in the array\n",
    "def crop(image_id, open_question):\n",
    "    if open_question:\n",
    "        path = 'data/ISIC-2017_Training_Data'\n",
    "        path_mask = 'data/ISIC-2017_Training_Part1_GroundTruth'\n",
    "    else:\n",
    "        path = 'data/example_image'\n",
    "        path_mask = 'data/example_segmentation'\n",
    "    path_cropped = path + '_cropped'\n",
    "    path_mask_cropped = path_mask + '_cropped'\n",
    "    if os.path.exists(path_cropped + '/' + image_id + '.jpg'):\n",
    "        image = plt.imread(path_cropped + '/' + image_id + '.jpg')\n",
    "        mask = plt.imread(path_mask_cropped + '/' + image_id + '.png')[:, :, 0]\n",
    "        return image, mask\n",
    "    if not os.path.exists(path_cropped):\n",
    "        os.mkdir(path_cropped)\n",
    "        os.mkdir(path_mask_cropped)\n",
    "    image = plt.imread(path + '/' + image_id + '.jpg')\n",
    "    mask = plt.imread(path_mask + '/' + image_id + '_segmentation.png')\n",
    "    min_x, max_x, min_y, max_y = get_extremes(mask)\n",
    "    mask = mask[min_y:max_y+1, min_x:max_x+1]\n",
    "    plt.imsave(path_mask_cropped + '/' + image_id + '.png', mask)\n",
    "    image_cropped = image.copy()[min_y:max_y+1, min_x:max_x+1, :]\n",
    "    to_black = mask==0\n",
    "    image_cropped[to_black] = (0,0,0)\n",
    "    plt.imsave(path_cropped + '/' + image_id + '.jpg', image_cropped)\n",
    "    return image, mask"
   ]
  },
  {
   "cell_type": "code",
   "execution_count": 4,
   "id": "5703c959",
   "metadata": {},
   "outputs": [],
   "source": [
    "# Assymetry function\n",
    "# 0 is a perfect circle, 1 has all the quarters of an image completely different\n",
    "def asymmetry_score(image):\n",
    "\n",
    "    height, width = np.shape(image)\n",
    "    if width % 2:\n",
    "        # Subparts need to be the same size to compare them\n",
    "        left_half = image[:, 0:width//2+1]\n",
    "    else:\n",
    "        left_half = image[:, 0:width//2]\n",
    "    # \"folding\" on vertical axis\n",
    "    right_half = np.flip(image[:, width//2:], 1)\n",
    "    \n",
    "    if height % 2:\n",
    "        top_half = image[0:height//2+1, :]\n",
    "    else:\n",
    "        top_half = image[0:height//2, :]\n",
    "    # \"folding\" on hotizontal axis\n",
    "    bottom_half = np.flip(image[height//2:, :], 0)\n",
    "    \n",
    "    hor_diff = np.where(left_half != right_half, 1, 0)\n",
    "    ver_diff = np.where(top_half != bottom_half, 1, 0)\n",
    "    return round((np.sum(hor_diff) + np.sum(ver_diff)) / (width * height),3)"
   ]
  },
  {
   "cell_type": "code",
   "execution_count": 5,
   "id": "080d1244",
   "metadata": {},
   "outputs": [],
   "source": [
    "# Border function, compactness\n",
    "# Due to inherit limitations of digital images, for some masks returend compactness value is below 1, which is wrong.\n",
    "# Nonetheless, such an imprecission is acceptable given that multiple variables are considred in diagnoses \n",
    "# scale from 1 to infinity \n",
    "def get_compactness(area, perimeter):\n",
    "    return round(perimeter**2 / (4 * np.pi * area),3)"
   ]
  },
  {
   "cell_type": "code",
   "execution_count": 6,
   "id": "40f9b52f",
   "metadata": {},
   "outputs": [],
   "source": [
    "def colour_extraction (cropped_image):\n",
    "    \n",
    "    # split the image into its respective RGB components\n",
    "    r, g, b = np.array_split(cropped_image, 3, 2)\n",
    "    \n",
    "    return r,g,b\n",
    "\n",
    "def colour_variance_avg(r,g,b):\n",
    "    return np.mean((np.var(r[r>0]),np.var(g[g>0]),np.var(b[b>0])))"
   ]
  },
  {
   "cell_type": "code",
   "execution_count": 7,
   "id": "bca94b3d",
   "metadata": {},
   "outputs": [],
   "source": [
    "def sensitivity(tp, fn):\n",
    "    return tp / (tp + fn)\n",
    "\n",
    "def specificity(tn, fp):\n",
    "    return tn / (tn + fp)"
   ]
  },
  {
   "cell_type": "code",
   "execution_count": 8,
   "id": "5c4249c1",
   "metadata": {},
   "outputs": [],
   "source": [
    "features = ['asymmetry','border','colour']"
   ]
  },
  {
   "cell_type": "code",
   "execution_count": 9,
   "id": "840ddef2",
   "metadata": {},
   "outputs": [],
   "source": [
    "# Import a data frame with file names and associated diseases\n",
    "df_conditions = pd.read_csv('data/example_ground_truth.csv')\n",
    "\n",
    "# A new data frame is created, which will store results of ABC tests \n",
    "df_evaluations = pd.DataFrame(df_conditions['image_id'])\n",
    "for name in features:\n",
    "    df_evaluations[name] = 0.0\n",
    "    \n",
    "for i in range(df_evaluations.shape[0]):\n",
    "    image, mask = crop(df_evaluations.at[i, 'image_id'], False)\n",
    "    df_evaluations.at[i, 'asymmetry'] = asymmetry_score(mask)\n",
    "    area, perimeter = measure_area_perimeter(mask)\n",
    "    df_evaluations.at[i, 'border'] = get_compactness(area, perimeter)\n",
    "    r,g,b = colour_extraction(image)\n",
    "    df_evaluations.at[i,'colour'] = colour_variance_avg(r,g,b)"
   ]
  },
  {
   "cell_type": "markdown",
   "id": "f35e7e58",
   "metadata": {
    "scrolled": true
   },
   "source": [
    "## Standarisation of features' values"
   ]
  },
  {
   "cell_type": "code",
   "execution_count": 10,
   "id": "df9ee3ce",
   "metadata": {},
   "outputs": [
    {
     "data": {
      "text/html": [
       "<div>\n",
       "<style scoped>\n",
       "    .dataframe tbody tr th:only-of-type {\n",
       "        vertical-align: middle;\n",
       "    }\n",
       "\n",
       "    .dataframe tbody tr th {\n",
       "        vertical-align: top;\n",
       "    }\n",
       "\n",
       "    .dataframe thead th {\n",
       "        text-align: right;\n",
       "    }\n",
       "</style>\n",
       "<table border=\"1\" class=\"dataframe\">\n",
       "  <thead>\n",
       "    <tr style=\"text-align: right;\">\n",
       "      <th></th>\n",
       "      <th>image_id</th>\n",
       "      <th>asymmetry</th>\n",
       "      <th>border</th>\n",
       "      <th>colour</th>\n",
       "    </tr>\n",
       "  </thead>\n",
       "  <tbody>\n",
       "    <tr>\n",
       "      <th>0</th>\n",
       "      <td>ISIC_0001769</td>\n",
       "      <td>0.195</td>\n",
       "      <td>1.458</td>\n",
       "      <td>798.790637</td>\n",
       "    </tr>\n",
       "    <tr>\n",
       "      <th>1</th>\n",
       "      <td>ISIC_0001852</td>\n",
       "      <td>0.126</td>\n",
       "      <td>0.984</td>\n",
       "      <td>1065.616653</td>\n",
       "    </tr>\n",
       "    <tr>\n",
       "      <th>2</th>\n",
       "      <td>ISIC_0001871</td>\n",
       "      <td>0.259</td>\n",
       "      <td>0.999</td>\n",
       "      <td>827.138257</td>\n",
       "    </tr>\n",
       "    <tr>\n",
       "      <th>3</th>\n",
       "      <td>ISIC_0003462</td>\n",
       "      <td>0.060</td>\n",
       "      <td>0.743</td>\n",
       "      <td>1153.693220</td>\n",
       "    </tr>\n",
       "    <tr>\n",
       "      <th>4</th>\n",
       "      <td>ISIC_0003539</td>\n",
       "      <td>0.416</td>\n",
       "      <td>1.058</td>\n",
       "      <td>1197.101541</td>\n",
       "    </tr>\n",
       "  </tbody>\n",
       "</table>\n",
       "</div>"
      ],
      "text/plain": [
       "       image_id  asymmetry  border       colour\n",
       "0  ISIC_0001769      0.195   1.458   798.790637\n",
       "1  ISIC_0001852      0.126   0.984  1065.616653\n",
       "2  ISIC_0001871      0.259   0.999   827.138257\n",
       "3  ISIC_0003462      0.060   0.743  1153.693220\n",
       "4  ISIC_0003539      0.416   1.058  1197.101541"
      ]
     },
     "execution_count": 10,
     "metadata": {},
     "output_type": "execute_result"
    }
   ],
   "source": [
    "df_evaluations.head()"
   ]
  },
  {
   "cell_type": "code",
   "execution_count": 11,
   "id": "34a36b4a",
   "metadata": {},
   "outputs": [
    {
     "data": {
      "image/png": "[encoded data removed]",
      "text/plain": [
       "<Figure size 720x864 with 6 Axes>"
      ]
     },
     "metadata": {
      "needs_background": "light"
     },
     "output_type": "display_data"
    }
   ],
   "source": [
    "#comparison between standirised data and unstandardised data\n",
    "fig, axs = plt.subplots(3,2,figsize=(10,12))\n",
    "for i,feature in enumerate(features):\n",
    "    \n",
    "    plt.suptitle(\"unstandarsied data on the left and standired data on the right\")\n",
    "    # unstadiresd plot\n",
    "    axs[i,0].hist(df_evaluations[feature])\n",
    "    axs[i,0].set_title(feature)\n",
    "    axs[i,0].set_xlabel('value')\n",
    "    axs[i,0].set_ylabel('occurrences')\n",
    "    \n",
    "    #standarising\n",
    "    mean = np.mean(df_evaluations[feature])\n",
    "    sd = np.std(df_evaluations[feature])\n",
    "    for n in range(df_evaluations.shape[0]):\n",
    "        df_evaluations.at[n, feature] = (df_evaluations.at[n, feature] - mean) / sd\n",
    "    \n",
    "    #standirised plot\n",
    "    axs[i,1].hist(df_evaluations[feature])\n",
    "    axs[i,1].set_title(feature)\n",
    "    axs[i,1].set_xlabel('value')\n",
    "    axs[i,1].set_ylabel('occurrences')\n",
    "    \n",
    "fig.tight_layout()\n"
   ]
  },
  {
   "cell_type": "code",
   "execution_count": 12,
   "id": "e87888b6",
   "metadata": {},
   "outputs": [
    {
     "data": {
      "text/html": [
       "<div>\n",
       "<style scoped>\n",
       "    .dataframe tbody tr th:only-of-type {\n",
       "        vertical-align: middle;\n",
       "    }\n",
       "\n",
       "    .dataframe tbody tr th {\n",
       "        vertical-align: top;\n",
       "    }\n",
       "\n",
       "    .dataframe thead th {\n",
       "        text-align: right;\n",
       "    }\n",
       "</style>\n",
       "<table border=\"1\" class=\"dataframe\">\n",
       "  <thead>\n",
       "    <tr style=\"text-align: right;\">\n",
       "      <th></th>\n",
       "      <th>image_id</th>\n",
       "      <th>asymmetry</th>\n",
       "      <th>border</th>\n",
       "      <th>colour</th>\n",
       "    </tr>\n",
       "  </thead>\n",
       "  <tbody>\n",
       "    <tr>\n",
       "      <th>0</th>\n",
       "      <td>ISIC_0001769</td>\n",
       "      <td>-0.023781</td>\n",
       "      <td>0.578983</td>\n",
       "      <td>-0.201948</td>\n",
       "    </tr>\n",
       "    <tr>\n",
       "      <th>1</th>\n",
       "      <td>ISIC_0001852</td>\n",
       "      <td>-0.709402</td>\n",
       "      <td>-0.476142</td>\n",
       "      <td>0.243168</td>\n",
       "    </tr>\n",
       "    <tr>\n",
       "      <th>2</th>\n",
       "      <td>ISIC_0001871</td>\n",
       "      <td>0.612156</td>\n",
       "      <td>-0.442752</td>\n",
       "      <td>-0.154659</td>\n",
       "    </tr>\n",
       "    <tr>\n",
       "      <th>3</th>\n",
       "      <td>ISIC_0003462</td>\n",
       "      <td>-1.365212</td>\n",
       "      <td>-1.012609</td>\n",
       "      <td>0.390096</td>\n",
       "    </tr>\n",
       "    <tr>\n",
       "      <th>4</th>\n",
       "      <td>ISIC_0003539</td>\n",
       "      <td>2.172190</td>\n",
       "      <td>-0.311418</td>\n",
       "      <td>0.462509</td>\n",
       "    </tr>\n",
       "  </tbody>\n",
       "</table>\n",
       "</div>"
      ],
      "text/plain": [
       "       image_id  asymmetry    border    colour\n",
       "0  ISIC_0001769  -0.023781  0.578983 -0.201948\n",
       "1  ISIC_0001852  -0.709402 -0.476142  0.243168\n",
       "2  ISIC_0001871   0.612156 -0.442752 -0.154659\n",
       "3  ISIC_0003462  -1.365212 -1.012609  0.390096\n",
       "4  ISIC_0003539   2.172190 -0.311418  0.462509"
      ]
     },
     "execution_count": 12,
     "metadata": {},
     "output_type": "execute_result"
    }
   ],
   "source": [
    "df_evaluations.head()"
   ]
  },
  {
   "cell_type": "markdown",
   "id": "d8c5dd1b",
   "metadata": {},
   "source": [
    "## Comparison of manual and automatic feature extraction"
   ]
  },
  {
   "cell_type": "code",
   "execution_count": 13,
   "id": "02907ec8",
   "metadata": {},
   "outputs": [
    {
     "data": {
      "text/html": [
       "<div>\n",
       "<style scoped>\n",
       "    .dataframe tbody tr th:only-of-type {\n",
       "        vertical-align: middle;\n",
       "    }\n",
       "\n",
       "    .dataframe tbody tr th {\n",
       "        vertical-align: top;\n",
       "    }\n",
       "\n",
       "    .dataframe thead th {\n",
       "        text-align: right;\n",
       "    }\n",
       "</style>\n",
       "<table border=\"1\" class=\"dataframe\">\n",
       "  <thead>\n",
       "    <tr style=\"text-align: right;\">\n",
       "      <th></th>\n",
       "      <th>Filename</th>\n",
       "      <th>asymmetry</th>\n",
       "      <th>border</th>\n",
       "      <th>colour</th>\n",
       "    </tr>\n",
       "  </thead>\n",
       "  <tbody>\n",
       "    <tr>\n",
       "      <th>0</th>\n",
       "      <td>ISIC_0001769.jpg</td>\n",
       "      <td>-1.159523</td>\n",
       "      <td>-0.060956</td>\n",
       "      <td>-0.720806</td>\n",
       "    </tr>\n",
       "    <tr>\n",
       "      <th>1</th>\n",
       "      <td>ISIC_0001852.jpg</td>\n",
       "      <td>-0.288159</td>\n",
       "      <td>-1.563388</td>\n",
       "      <td>-1.179500</td>\n",
       "    </tr>\n",
       "    <tr>\n",
       "      <th>2</th>\n",
       "      <td>ISIC_0001871.jpg</td>\n",
       "      <td>-0.723841</td>\n",
       "      <td>-1.062577</td>\n",
       "      <td>-0.720806</td>\n",
       "    </tr>\n",
       "    <tr>\n",
       "      <th>3</th>\n",
       "      <td>ISIC_0003462.jpg</td>\n",
       "      <td>-1.159523</td>\n",
       "      <td>-0.561766</td>\n",
       "      <td>-0.720806</td>\n",
       "    </tr>\n",
       "    <tr>\n",
       "      <th>4</th>\n",
       "      <td>ISIC_0003539.jpg</td>\n",
       "      <td>1.454570</td>\n",
       "      <td>-0.060956</td>\n",
       "      <td>0.655278</td>\n",
       "    </tr>\n",
       "  </tbody>\n",
       "</table>\n",
       "</div>"
      ],
      "text/plain": [
       "           Filename  asymmetry    border    colour\n",
       "0  ISIC_0001769.jpg  -1.159523 -0.060956 -0.720806\n",
       "1  ISIC_0001852.jpg  -0.288159 -1.563388 -1.179500\n",
       "2  ISIC_0001871.jpg  -0.723841 -1.062577 -0.720806\n",
       "3  ISIC_0003462.jpg  -1.159523 -0.561766 -0.720806\n",
       "4  ISIC_0003539.jpg   1.454570 -0.060956  0.655278"
      ]
     },
     "execution_count": 13,
     "metadata": {},
     "output_type": "execute_result"
    }
   ],
   "source": [
    "manual_data = pd.read_csv('data/Manual_features_avg.csv')\n",
    "manual_data = manual_data[:63] # slicing to the last valid row \n",
    "\n",
    "#standarising \n",
    "for feature in features:\n",
    "    manual_data[feature] = manual_data[feature].astype(float) # convert strings to floats\n",
    "    mean = np.mean(manual_data[feature])\n",
    "    sd = np.std(manual_data[feature])\n",
    "    for n in range(manual_data.shape[0]):\n",
    "        manual_data.at[n, feature] = (manual_data.at[n, feature] - mean) / sd\n",
    "\n",
    "manual_data.head()\n"
   ]
  },
  {
   "cell_type": "code",
   "execution_count": 14,
   "id": "d95883db",
   "metadata": {},
   "outputs": [
    {
     "data": {
      "image/png": "[encoded data removed]",
      "text/plain": [
       "<Figure size 720x864 with 6 Axes>"
      ]
     },
     "metadata": {
      "needs_background": "light"
     },
     "output_type": "display_data"
    }
   ],
   "source": [
    "fig, axs = plt.subplots(3,2,figsize=(10,12))\n",
    "for i,feature in enumerate(features):\n",
    "    \n",
    "    plt.suptitle(\"Automatic feature extraction on the right and manual feature extraction on the left\")\n",
    "    # unstadiresd plot\n",
    "    axs[i,0].hist(df_evaluations[feature])\n",
    "    axs[i,0].set_title(feature)\n",
    "    axs[i,0].set_xlabel('value')\n",
    "    axs[i,0].set_ylabel('occurrences')\n",
    "    \n",
    "    \n",
    "    #standirised plot\n",
    "    axs[i,1].hist(manual_data[feature])\n",
    "    axs[i,1].set_title(feature)\n",
    "    axs[i,1].set_xlabel('value')\n",
    "    axs[i,1].set_ylabel('occurrences')\n",
    "    \n",
    "fig.tight_layout()"
   ]
  },
  {
   "cell_type": "markdown",
   "id": "e8da4a73",
   "metadata": {},
   "source": [
    "## Dummy variables test"
   ]
  },
  {
   "cell_type": "code",
   "execution_count": null,
   "id": "d382325a",
   "metadata": {},
   "outputs": [],
   "source": []
  },
  {
   "cell_type": "markdown",
   "id": "9661957c",
   "metadata": {},
   "source": [
    "## Machine learning "
   ]
  },
  {
   "cell_type": "code",
   "execution_count": 15,
   "id": "b75c86c3",
   "metadata": {
    "scrolled": true
   },
   "outputs": [
    {
     "name": "stdout",
     "output_type": "stream",
     "text": [
      "   melanoma  asymmetry    border    colour\n",
      "0       0.0  -0.023781  0.578983 -0.201948\n",
      "1       0.0  -0.709402 -0.476142  0.243168\n",
      "2       0.0   0.612156 -0.442752 -0.154659\n",
      "3       0.0  -1.365212 -1.012609  0.390096\n",
      "4       0.0   2.172190 -0.311418  0.462509\n"
     ]
    }
   ],
   "source": [
    "df = df_conditions.drop('seborrheic_keratosis', axis=1).merge(df_evaluations, on='image_id').drop('image_id', axis=1)\n",
    "print(df.head())"
   ]
  },
  {
   "cell_type": "code",
   "execution_count": 16,
   "id": "303e2892",
   "metadata": {},
   "outputs": [],
   "source": [
    "# Split dataset to select feature and evaluate the classifier\n",
    "x = df[features]\n",
    "y = df['melanoma']\n",
    "\n",
    "# X_train and y_train used for training, X_val and y_val are for predicting and validating the ML model\n",
    "x_train, x_val, y_train, y_val = train_test_split(\n",
    "        x, y, stratify=y, test_size=0.4, random_state=0)\n",
    "sm = SMOTE(random_state=0)\n",
    "x_train, y_train = sm.fit_resample(x_train, y_train)"
   ]
  },
  {
   "cell_type": "code",
   "execution_count": 17,
   "id": "42346642",
   "metadata": {},
   "outputs": [
    {
     "data": {
      "image/png": "[encoded data removed]",
      "text/plain": [
       "<Figure size 720x864 with 1 Axes>"
      ]
     },
     "metadata": {
      "needs_background": "light"
     },
     "output_type": "display_data"
    }
   ],
   "source": [
    "accuracy = [None]\n",
    "sens = [None]\n",
    "spec = [None]\n",
    "\n",
    "# TODO\n",
    "\n",
    "for n_neighbors in range(1, 10):\n",
    "    # Train a classifier\n",
    "    knn = KNeighborsClassifier(n_neighbors) # other hyperparameters possible\n",
    "    knn_trained = knn.fit(x_train, y_train)\n",
    "    y_val_knn = knn_trained.predict(x_val)\n",
    "    # Accuracy - often used in ML but not suitable for medical imaging in general\n",
    "    tn, fp, fn, tp = confusion_matrix(y_val, y_val_knn).ravel()\n",
    "    accuracy.append(round(np.sum(y_val_knn == y_val) / np.size(y_val) * 100, 4))\n",
    "    sens.append(round(sensitivity(tp, fn), 4))\n",
    "    spec.append(round(specificity(tn, fp), 4))\n",
    "\n",
    "    \n",
    "accuracy\n",
    "\n",
    "plt.figure(figsize=(10,12))\n",
    "plt.plot(range(1, 10), accuracy[1:])\n",
    "plt.title('Accuracy of KNN classifier by the number of neighbors')\n",
    "plt.xlabel('No. of neighbors')\n",
    "plt.ylabel('Accuracy (%)');"
   ]
  },
  {
   "cell_type": "markdown",
   "id": "85c1e504",
   "metadata": {},
   "source": [
    "## Open question "
   ]
  },
  {
   "cell_type": "markdown",
   "id": "72a619d0",
   "metadata": {},
   "source": [
    "We decided to investigate whteter parametrs of our ML model would imporve if we increased training data. In order to do that we downloaded the data set of 2000 skin lessions images with corresponding masks from source website. \n",
    "\n",
    "Due to storage limit (2gb) at github, it is not possible to upload all images to the repository. Hence, in order to run the code one must download data from:\n",
    "https://challenge.isic-archive.com/data/#2017\n",
    "\n",
    "and adjust paths in the code below to run it. "
   ]
  },
  {
   "cell_type": "code",
   "execution_count": 18,
   "id": "6bd5a97d",
   "metadata": {},
   "outputs": [
    {
     "ename": "FileNotFoundError",
     "evalue": "[Errno 2] No such file or directory: 'data/ISIC-2017_Training_Part3_GroundTruth.csv'",
     "output_type": "error",
     "traceback": [
      "\u001b[1;31m---------------------------------------------------------------------------\u001b[0m",
      "\u001b[1;31mFileNotFoundError\u001b[0m                         Traceback (most recent call last)",
      "\u001b[1;32m<ipython-input-18-8f3018746a86>\u001b[0m in \u001b[0;36m<module>\u001b[1;34m\u001b[0m\n\u001b[0;32m      1\u001b[0m \u001b[1;31m# Import a data frame with file names and associated diseases\u001b[0m\u001b[1;33m\u001b[0m\u001b[1;33m\u001b[0m\u001b[1;33m\u001b[0m\u001b[0m\n\u001b[1;32m----> 2\u001b[1;33m \u001b[0mdf_conditions_oq\u001b[0m \u001b[1;33m=\u001b[0m \u001b[0mpd\u001b[0m\u001b[1;33m.\u001b[0m\u001b[0mread_csv\u001b[0m\u001b[1;33m(\u001b[0m\u001b[1;34m'data/ISIC-2017_Training_Part3_GroundTruth.csv'\u001b[0m\u001b[1;33m)\u001b[0m \u001b[1;31m# oq is an abreavaition for open question\u001b[0m\u001b[1;33m\u001b[0m\u001b[1;33m\u001b[0m\u001b[0m\n\u001b[0m\u001b[0;32m      3\u001b[0m \u001b[1;33m\u001b[0m\u001b[0m\n\u001b[0;32m      4\u001b[0m \u001b[1;31m# A new data frame is created, which will store results of ABC tests\u001b[0m\u001b[1;33m\u001b[0m\u001b[1;33m\u001b[0m\u001b[1;33m\u001b[0m\u001b[0m\n\u001b[0;32m      5\u001b[0m \u001b[0mdf_evaluations_oq\u001b[0m \u001b[1;33m=\u001b[0m \u001b[0mpd\u001b[0m\u001b[1;33m.\u001b[0m\u001b[0mDataFrame\u001b[0m\u001b[1;33m(\u001b[0m\u001b[0mdf_conditions_oq\u001b[0m\u001b[1;33m[\u001b[0m\u001b[1;34m'image_id'\u001b[0m\u001b[1;33m]\u001b[0m\u001b[1;33m)\u001b[0m\u001b[1;33m\u001b[0m\u001b[1;33m\u001b[0m\u001b[0m\n",
      "\u001b[1;32m~\\anaconda3\\lib\\site-packages\\pandas\\io\\parsers.py\u001b[0m in \u001b[0;36mread_csv\u001b[1;34m(filepath_or_buffer, sep, delimiter, header, names, index_col, usecols, squeeze, prefix, mangle_dupe_cols, dtype, engine, converters, true_values, false_values, skipinitialspace, skiprows, skipfooter, nrows, na_values, keep_default_na, na_filter, verbose, skip_blank_lines, parse_dates, infer_datetime_format, keep_date_col, date_parser, dayfirst, cache_dates, iterator, chunksize, compression, thousands, decimal, lineterminator, quotechar, quoting, doublequote, escapechar, comment, encoding, dialect, error_bad_lines, warn_bad_lines, delim_whitespace, low_memory, memory_map, float_precision, storage_options)\u001b[0m\n\u001b[0;32m    608\u001b[0m     \u001b[0mkwds\u001b[0m\u001b[1;33m.\u001b[0m\u001b[0mupdate\u001b[0m\u001b[1;33m(\u001b[0m\u001b[0mkwds_defaults\u001b[0m\u001b[1;33m)\u001b[0m\u001b[1;33m\u001b[0m\u001b[1;33m\u001b[0m\u001b[0m\n\u001b[0;32m    609\u001b[0m \u001b[1;33m\u001b[0m\u001b[0m\n\u001b[1;32m--> 610\u001b[1;33m     \u001b[1;32mreturn\u001b[0m \u001b[0m_read\u001b[0m\u001b[1;33m(\u001b[0m\u001b[0mfilepath_or_buffer\u001b[0m\u001b[1;33m,\u001b[0m \u001b[0mkwds\u001b[0m\u001b[1;33m)\u001b[0m\u001b[1;33m\u001b[0m\u001b[1;33m\u001b[0m\u001b[0m\n\u001b[0m\u001b[0;32m    611\u001b[0m \u001b[1;33m\u001b[0m\u001b[0m\n\u001b[0;32m    612\u001b[0m \u001b[1;33m\u001b[0m\u001b[0m\n",
      "\u001b[1;32m~\\anaconda3\\lib\\site-packages\\pandas\\io\\parsers.py\u001b[0m in \u001b[0;36m_read\u001b[1;34m(filepath_or_buffer, kwds)\u001b[0m\n\u001b[0;32m    460\u001b[0m \u001b[1;33m\u001b[0m\u001b[0m\n\u001b[0;32m    461\u001b[0m     \u001b[1;31m# Create the parser.\u001b[0m\u001b[1;33m\u001b[0m\u001b[1;33m\u001b[0m\u001b[1;33m\u001b[0m\u001b[0m\n\u001b[1;32m--> 462\u001b[1;33m     \u001b[0mparser\u001b[0m \u001b[1;33m=\u001b[0m \u001b[0mTextFileReader\u001b[0m\u001b[1;33m(\u001b[0m\u001b[0mfilepath_or_buffer\u001b[0m\u001b[1;33m,\u001b[0m \u001b[1;33m**\u001b[0m\u001b[0mkwds\u001b[0m\u001b[1;33m)\u001b[0m\u001b[1;33m\u001b[0m\u001b[1;33m\u001b[0m\u001b[0m\n\u001b[0m\u001b[0;32m    463\u001b[0m \u001b[1;33m\u001b[0m\u001b[0m\n\u001b[0;32m    464\u001b[0m     \u001b[1;32mif\u001b[0m \u001b[0mchunksize\u001b[0m \u001b[1;32mor\u001b[0m \u001b[0miterator\u001b[0m\u001b[1;33m:\u001b[0m\u001b[1;33m\u001b[0m\u001b[1;33m\u001b[0m\u001b[0m\n",
      "\u001b[1;32m~\\anaconda3\\lib\\site-packages\\pandas\\io\\parsers.py\u001b[0m in \u001b[0;36m__init__\u001b[1;34m(self, f, engine, **kwds)\u001b[0m\n\u001b[0;32m    817\u001b[0m             \u001b[0mself\u001b[0m\u001b[1;33m.\u001b[0m\u001b[0moptions\u001b[0m\u001b[1;33m[\u001b[0m\u001b[1;34m\"has_index_names\"\u001b[0m\u001b[1;33m]\u001b[0m \u001b[1;33m=\u001b[0m \u001b[0mkwds\u001b[0m\u001b[1;33m[\u001b[0m\u001b[1;34m\"has_index_names\"\u001b[0m\u001b[1;33m]\u001b[0m\u001b[1;33m\u001b[0m\u001b[1;33m\u001b[0m\u001b[0m\n\u001b[0;32m    818\u001b[0m \u001b[1;33m\u001b[0m\u001b[0m\n\u001b[1;32m--> 819\u001b[1;33m         \u001b[0mself\u001b[0m\u001b[1;33m.\u001b[0m\u001b[0m_engine\u001b[0m \u001b[1;33m=\u001b[0m \u001b[0mself\u001b[0m\u001b[1;33m.\u001b[0m\u001b[0m_make_engine\u001b[0m\u001b[1;33m(\u001b[0m\u001b[0mself\u001b[0m\u001b[1;33m.\u001b[0m\u001b[0mengine\u001b[0m\u001b[1;33m)\u001b[0m\u001b[1;33m\u001b[0m\u001b[1;33m\u001b[0m\u001b[0m\n\u001b[0m\u001b[0;32m    820\u001b[0m \u001b[1;33m\u001b[0m\u001b[0m\n\u001b[0;32m    821\u001b[0m     \u001b[1;32mdef\u001b[0m \u001b[0mclose\u001b[0m\u001b[1;33m(\u001b[0m\u001b[0mself\u001b[0m\u001b[1;33m)\u001b[0m\u001b[1;33m:\u001b[0m\u001b[1;33m\u001b[0m\u001b[1;33m\u001b[0m\u001b[0m\n",
      "\u001b[1;32m~\\anaconda3\\lib\\site-packages\\pandas\\io\\parsers.py\u001b[0m in \u001b[0;36m_make_engine\u001b[1;34m(self, engine)\u001b[0m\n\u001b[0;32m   1048\u001b[0m             )\n\u001b[0;32m   1049\u001b[0m         \u001b[1;31m# error: Too many arguments for \"ParserBase\"\u001b[0m\u001b[1;33m\u001b[0m\u001b[1;33m\u001b[0m\u001b[1;33m\u001b[0m\u001b[0m\n\u001b[1;32m-> 1050\u001b[1;33m         \u001b[1;32mreturn\u001b[0m \u001b[0mmapping\u001b[0m\u001b[1;33m[\u001b[0m\u001b[0mengine\u001b[0m\u001b[1;33m]\u001b[0m\u001b[1;33m(\u001b[0m\u001b[0mself\u001b[0m\u001b[1;33m.\u001b[0m\u001b[0mf\u001b[0m\u001b[1;33m,\u001b[0m \u001b[1;33m**\u001b[0m\u001b[0mself\u001b[0m\u001b[1;33m.\u001b[0m\u001b[0moptions\u001b[0m\u001b[1;33m)\u001b[0m  \u001b[1;31m# type: ignore[call-arg]\u001b[0m\u001b[1;33m\u001b[0m\u001b[1;33m\u001b[0m\u001b[0m\n\u001b[0m\u001b[0;32m   1051\u001b[0m \u001b[1;33m\u001b[0m\u001b[0m\n\u001b[0;32m   1052\u001b[0m     \u001b[1;32mdef\u001b[0m \u001b[0m_failover_to_python\u001b[0m\u001b[1;33m(\u001b[0m\u001b[0mself\u001b[0m\u001b[1;33m)\u001b[0m\u001b[1;33m:\u001b[0m\u001b[1;33m\u001b[0m\u001b[1;33m\u001b[0m\u001b[0m\n",
      "\u001b[1;32m~\\anaconda3\\lib\\site-packages\\pandas\\io\\parsers.py\u001b[0m in \u001b[0;36m__init__\u001b[1;34m(self, src, **kwds)\u001b[0m\n\u001b[0;32m   1865\u001b[0m \u001b[1;33m\u001b[0m\u001b[0m\n\u001b[0;32m   1866\u001b[0m         \u001b[1;31m# open handles\u001b[0m\u001b[1;33m\u001b[0m\u001b[1;33m\u001b[0m\u001b[1;33m\u001b[0m\u001b[0m\n\u001b[1;32m-> 1867\u001b[1;33m         \u001b[0mself\u001b[0m\u001b[1;33m.\u001b[0m\u001b[0m_open_handles\u001b[0m\u001b[1;33m(\u001b[0m\u001b[0msrc\u001b[0m\u001b[1;33m,\u001b[0m \u001b[0mkwds\u001b[0m\u001b[1;33m)\u001b[0m\u001b[1;33m\u001b[0m\u001b[1;33m\u001b[0m\u001b[0m\n\u001b[0m\u001b[0;32m   1868\u001b[0m         \u001b[1;32massert\u001b[0m \u001b[0mself\u001b[0m\u001b[1;33m.\u001b[0m\u001b[0mhandles\u001b[0m \u001b[1;32mis\u001b[0m \u001b[1;32mnot\u001b[0m \u001b[1;32mNone\u001b[0m\u001b[1;33m\u001b[0m\u001b[1;33m\u001b[0m\u001b[0m\n\u001b[0;32m   1869\u001b[0m         \u001b[1;32mfor\u001b[0m \u001b[0mkey\u001b[0m \u001b[1;32min\u001b[0m \u001b[1;33m(\u001b[0m\u001b[1;34m\"storage_options\"\u001b[0m\u001b[1;33m,\u001b[0m \u001b[1;34m\"encoding\"\u001b[0m\u001b[1;33m,\u001b[0m \u001b[1;34m\"memory_map\"\u001b[0m\u001b[1;33m,\u001b[0m \u001b[1;34m\"compression\"\u001b[0m\u001b[1;33m)\u001b[0m\u001b[1;33m:\u001b[0m\u001b[1;33m\u001b[0m\u001b[1;33m\u001b[0m\u001b[0m\n",
      "\u001b[1;32m~\\anaconda3\\lib\\site-packages\\pandas\\io\\parsers.py\u001b[0m in \u001b[0;36m_open_handles\u001b[1;34m(self, src, kwds)\u001b[0m\n\u001b[0;32m   1360\u001b[0m         \u001b[0mLet\u001b[0m \u001b[0mthe\u001b[0m \u001b[0mreaders\u001b[0m \u001b[0mopen\u001b[0m \u001b[0mIOHanldes\u001b[0m \u001b[0mafter\u001b[0m \u001b[0mthey\u001b[0m \u001b[0mare\u001b[0m \u001b[0mdone\u001b[0m \u001b[1;32mwith\u001b[0m \u001b[0mtheir\u001b[0m \u001b[0mpotential\u001b[0m \u001b[0mraises\u001b[0m\u001b[1;33m.\u001b[0m\u001b[1;33m\u001b[0m\u001b[1;33m\u001b[0m\u001b[0m\n\u001b[0;32m   1361\u001b[0m         \"\"\"\n\u001b[1;32m-> 1362\u001b[1;33m         self.handles = get_handle(\n\u001b[0m\u001b[0;32m   1363\u001b[0m             \u001b[0msrc\u001b[0m\u001b[1;33m,\u001b[0m\u001b[1;33m\u001b[0m\u001b[1;33m\u001b[0m\u001b[0m\n\u001b[0;32m   1364\u001b[0m             \u001b[1;34m\"r\"\u001b[0m\u001b[1;33m,\u001b[0m\u001b[1;33m\u001b[0m\u001b[1;33m\u001b[0m\u001b[0m\n",
      "\u001b[1;32m~\\anaconda3\\lib\\site-packages\\pandas\\io\\common.py\u001b[0m in \u001b[0;36mget_handle\u001b[1;34m(path_or_buf, mode, encoding, compression, memory_map, is_text, errors, storage_options)\u001b[0m\n\u001b[0;32m    640\u001b[0m                 \u001b[0merrors\u001b[0m \u001b[1;33m=\u001b[0m \u001b[1;34m\"replace\"\u001b[0m\u001b[1;33m\u001b[0m\u001b[1;33m\u001b[0m\u001b[0m\n\u001b[0;32m    641\u001b[0m             \u001b[1;31m# Encoding\u001b[0m\u001b[1;33m\u001b[0m\u001b[1;33m\u001b[0m\u001b[1;33m\u001b[0m\u001b[0m\n\u001b[1;32m--> 642\u001b[1;33m             handle = open(\n\u001b[0m\u001b[0;32m    643\u001b[0m                 \u001b[0mhandle\u001b[0m\u001b[1;33m,\u001b[0m\u001b[1;33m\u001b[0m\u001b[1;33m\u001b[0m\u001b[0m\n\u001b[0;32m    644\u001b[0m                 \u001b[0mioargs\u001b[0m\u001b[1;33m.\u001b[0m\u001b[0mmode\u001b[0m\u001b[1;33m,\u001b[0m\u001b[1;33m\u001b[0m\u001b[1;33m\u001b[0m\u001b[0m\n",
      "\u001b[1;31mFileNotFoundError\u001b[0m: [Errno 2] No such file or directory: 'data/ISIC-2017_Training_Part3_GroundTruth.csv'"
     ]
    }
   ],
   "source": [
    "# Import a data frame with file names and associated diseases\n",
    "df_conditions_oq = pd.read_csv('data/ISIC-2017_Training_Part3_GroundTruth.csv') # oq is an abreavaition for open question\n",
    "\n",
    "# A new data frame is created, which will store results of ABC tests \n",
    "df_evaluations_oq = pd.DataFrame(df_conditions_oq['image_id'])\n",
    "for name in features:\n",
    "    df_evaluations_oq[name] = 0.0\n",
    "    \n",
    "for i in range(df_evaluations_oq.shape[0]):\n",
    "    image, mask = crop(df_evaluations_oq.at[i, 'image_id'], True)\n",
    "    df_evaluations_oq.at[i, 'asymmetry'] = asymmetry_score(mask)\n",
    "    area, perimeter = measure_area_perimeter(mask)\n",
    "    df_evaluations_oq.at[i, 'border'] = get_compactness(area, perimeter)\n",
    "    r,g,b = colour_extraction(image)\n",
    "    df_evaluations_oq.at[i,'colour'] = colour_variance_avg(r,g,b)"
   ]
  },
  {
   "cell_type": "markdown",
   "id": "e4d022d7",
   "metadata": {},
   "source": [
    "# standarisation "
   ]
  },
  {
   "cell_type": "code",
   "execution_count": null,
   "id": "1d2b2521",
   "metadata": {},
   "outputs": [],
   "source": [
    "for name in features:\n",
    "    mean = np.mean(df_evaluations_oq[name])\n",
    "    sd = np.std(df_evaluations_oq[name])\n",
    "    for i in range(df_evaluations_oq.shape[0]):\n",
    "        df_evaluations_oq.at[i, name] = (df_evaluations_oq.at[i, name] - mean) / sd"
   ]
  },
  {
   "cell_type": "markdown",
   "id": "1ddb4b06",
   "metadata": {},
   "source": [
    "# "
   ]
  },
  {
   "cell_type": "code",
   "execution_count": null,
   "id": "e724a195",
   "metadata": {},
   "outputs": [],
   "source": [
    "#merging data frames and droping irrelevant metric \n",
    "df_oq = df_conditions_oq.drop('seborrheic_keratosis', axis=1).merge(df_evaluations_oq, on='image_id').drop('image_id', axis=1)\n",
    "print(df.head())\n",
    "\n",
    "# Split dataset to select feature and evaluate the classifier\n",
    "x = df_oq[features]\n",
    "y = df_oq['melanoma']\n",
    "\n",
    "# X_train and y_train used for training, X_val and y_val are for predicting and validating the ML model\n",
    "x_train, x_val, y_train, y_val = train_test_split(\n",
    "        x, y, stratify=y, test_size=0.4, random_state=0)\n",
    "sm = SMOTE(random_state=0)\n",
    "x_train, y_train = sm.fit_resample(x_train, y_train)"
   ]
  },
  {
   "cell_type": "code",
   "execution_count": null,
   "id": "9362ef70",
   "metadata": {},
   "outputs": [],
   "source": [
    "accuracy = dict()\n",
    "\n",
    "# TODO\n",
    "\n",
    "for n_neighbors in [5]: #range(1, 10):\n",
    "    # Train a classifier\n",
    "    knn = KNeighborsClassifier(n_neighbors) # other hyperparameters possible\n",
    "    knn_trained = knn.fit(x_train, y_train)\n",
    "    y_val_knn = knn_trained.predict(x_val)\n",
    "    # Accuracy - often used in ML but not suitable for medical imaging in general\n",
    "    tn, fp, fn, tp = confusion_matrix(y_val, y_val_knn).ravel()\n",
    "    accuracy[n_neighbors] = [np.sum(y_val_knn == y_val) / np.size(y_val) * 100, sensitivity(tp, fn), specificity(tn, fp)]\n",
    "    \n",
    "    \n",
    "accuracy"
   ]
  }
 ],
 "metadata": {
  "kernelspec": {
   "display_name": "Python 3",
   "language": "python",
   "name": "python3"
  },
  "language_info": {
   "codemirror_mode": {
    "name": "ipython",
    "version": 3
   },
   "file_extension": ".py",
   "mimetype": "text/x-python",
   "name": "python",
   "nbconvert_exporter": "python",
   "pygments_lexer": "ipython3",
   "version": "3.8.8"
  }
 },
 "nbformat": 4,
 "nbformat_minor": 5
}
