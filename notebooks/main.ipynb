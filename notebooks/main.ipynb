{
 "cells": [
  {
   "cell_type": "code",
   "execution_count": 1,
   "id": "1d4776a7",
   "metadata": {},
   "outputs": [],
   "source": [
    "# imports, including functions provided with the starter\n",
    "import pandas as pd\n",
    "import numpy as np\n",
    "import matplotlib.pyplot as plt\n",
    "import os\n",
    "\n",
    "os.chdir('..')\n",
    "\n",
    "from groupXY_functions import *"
   ]
  },
  {
   "cell_type": "code",
   "execution_count": 2,
   "id": "5703c959",
   "metadata": {},
   "outputs": [],
   "source": [
    "# week11-2_features.pdf, slide 11\n",
    "def get_compactness(area, perimeter):\n",
    "    return perimeter**2 / (4 * np.pi * area)\n",
    "\n",
    "# Return smallest and largest y, smallest and largest y that contains a white pixel\n",
    "def get_extremes(image):\n",
    "    non_zeros = np.nonzero(image)\n",
    "    return min(non_zeros[1]), max(non_zeros[1]), min(non_zeros[0]), max(non_zeros[0])\n",
    "\n",
    "# Returns assymetry score of an image in vertical and horizontal axises.\n",
    "# 0 is a perfect circle, 1 has all the quarters of an image completely different\n",
    "def assymetry_score(image):\n",
    "    min_x, max_x, min_y, max_y = get_extremes(image)\n",
    "    width = max_x - min_x + 1\n",
    "    height = max_y - min_y + 1\n",
    "    print(width, height)\n",
    "    image_cropped = image[min_y:max_y+1, min_x:max_x+1]\n",
    "    if width % 2:\n",
    "        # halves need to be the same size to compare them\n",
    "        left_half = image_cropped[:, 0:width//2+1]\n",
    "    else:\n",
    "        left_half = image_cropped[:, 0:width//2]\n",
    "    right_half = np.flip(image_cropped[:, width//2:], 1)\n",
    "    if height % 2:\n",
    "        top_half = image_cropped[0:height//2+1, :]\n",
    "    else:\n",
    "        top_half = image_cropped[0:height//2, :]\n",
    "    bottom_half = np.flip(image_cropped[height//2:, :], 0)\n",
    "    hor_diff = np.where(left_half != right_half, 1, 0)\n",
    "    ver_diff = np.where(top_half != bottom_half, 1, 0)\n",
    "    return (np.sum(hor_diff) + np.sum(ver_diff)) / width / height"
   ]
  },
  {
   "cell_type": "code",
   "execution_count": 3,
   "id": "840ddef2",
   "metadata": {},
   "outputs": [],
   "source": [
    "# Import a data frame with file names and associated diseases\n",
    "df = pd.read_csv('data/example_ground_truth.csv')"
   ]
  },
  {
   "cell_type": "code",
   "execution_count": 4,
   "id": "00f54038",
   "metadata": {},
   "outputs": [],
   "source": [
    "# TODO: iterate over every element, put in the data frame\n",
    "data_folder = 'data/'\n",
    "im = plt.imread(data_folder + 'example_image/ISIC_0001769.jpg')\n",
    "mask = plt.imread(data_folder + 'example_segmentation/ISIC_0001769_segmentation.png')"
   ]
  },
  {
   "cell_type": "code",
   "execution_count": 5,
   "id": "728d09f6",
   "metadata": {},
   "outputs": [
    {
     "name": "stdout",
     "output_type": "stream",
     "text": [
      "688 521\n",
      "0.19465305985805473\n"
     ]
    },
    {
     "data": {
      "image/png": "[encoded data removed]",
      "text/plain": [
       "<Figure size 432x288 with 1 Axes>"
      ]
     },
     "metadata": {
      "needs_background": "light"
     },
     "output_type": "display_data"
    }
   ],
   "source": [
    "plt.imshow(mask)\n",
    "print(assymetry_score(mask))"
   ]
  }
 ],
 "metadata": {
  "kernelspec": {
   "display_name": "Python 3 (ipykernel)",
   "language": "python",
   "name": "python3"
  },
  "language_info": {
   "codemirror_mode": {
    "name": "ipython",
    "version": 3
   },
   "file_extension": ".py",
   "mimetype": "text/x-python",
   "name": "python",
   "nbconvert_exporter": "python",
   "pygments_lexer": "ipython3",
   "version": "3.10.2"
  }
 },
 "nbformat": 4,
 "nbformat_minor": 5
}
