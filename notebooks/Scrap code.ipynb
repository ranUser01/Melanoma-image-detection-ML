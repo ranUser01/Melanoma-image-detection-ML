{
 "cells": [
  {
   "cell_type": "code",
   "execution_count": null,
   "id": "62b2eaa4",
   "metadata": {},
   "outputs": [],
   "source": [
    "x_min, x_max = x_val['asymmetry'].min() - 1, x_val['asymmetry'].max() + 1\n",
    "    y_min, y_max = x_val['border'].min() - 1, x_val['border'].max() + 1\n",
    "    xx, yy = np.meshgrid(np.arange(x_min, x_max, .02), np.arange(y_min, y_max, .02))\n",
    "    clf =  KNeighborsClassifier(n_neighbors)\n",
    "    clf.fit(x_val, y_val)\n",
    "    Z = clf.predict(np.c_[xx.ravel(), yy.ravel()])\n",
    "    Z = Z.reshape(xx.shape)\n",
    "    plt.figure(figsize=(8, 6))\n",
    "    plt.contourf(xx, yy, Z)\n",
    "    sns.scatterplot(x=x_val['asymmetry'], y=x_val['border'], hue=y_val)\n"
   ]
  },
  {
   "cell_type": "code",
   "execution_count": null,
   "id": "efa58d2c",
   "metadata": {},
   "outputs": [],
   "source": [
    "def knn_vis(x_val, knn_trained):\n",
    "    h = .02\n",
    "    cmap_light = ListedColormap(['orange', 'cornflowerblue'])\n",
    "    cmap_bold = ['darkorange', 'darkblue']\n",
    "    x_min, x_max = x_val['asymmetry'].min() - 1, x_val['asymmetry'].max() + 1\n",
    "    y_min, y_max = x_val['border'].min() - 1, x_val['border'].max() + 1\n",
    "    xx, yy = np.meshgrid(np.arange(x_min, x_max, h), np.arange(y_min, y_max, h))\n",
    "    Z = knn_trained.predict(np.c_[xx.ravel(), yy.ravel()])\n",
    "    \n",
    "    Z = Z.reshape(xx.shape)\n",
    "    plt.figure(figsize=(8, 6))\n",
    "    plt.contourf(xx, yy, Z, cmap=cmap_light)\n",
    "\n",
    "    # Plot also the training points\n",
    "    sns.scatterplot(\n",
    "        x=X[:, 0],\n",
    "        y=X[:, 1],\n",
    "        hue=iris.target_names[y],\n",
    "        palette=cmap_bold,\n",
    "        alpha=1.0,\n",
    "        edgecolor=\"black\",\n",
    "    )\n",
    "    plt.xlim(xx.min(), xx.max())\n",
    "    plt.ylim(yy.min(), yy.max())\n",
    "    plt.title(\n",
    "        \"3-Class classification (k = %i, weights = '%s')\" % (n_neighbors, weights)\n",
    "    )\n",
    "    plt.xlabel(iris.feature_names[0])\n",
    "    plt.ylabel(iris.feature_names[1])"
   ]
  }
 ],
 "metadata": {
  "kernelspec": {
   "display_name": "Python 3",
   "language": "python",
   "name": "python3"
  },
  "language_info": {
   "codemirror_mode": {
    "name": "ipython",
    "version": 3
   },
   "file_extension": ".py",
   "mimetype": "text/x-python",
   "name": "python",
   "nbconvert_exporter": "python",
   "pygments_lexer": "ipython3",
   "version": "3.8.8"
  }
 },
 "nbformat": 4,
 "nbformat_minor": 5
}
