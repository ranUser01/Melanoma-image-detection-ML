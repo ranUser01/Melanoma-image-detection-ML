{
 "cells": [
  {
   "cell_type": "markdown",
   "id": "1021c5ff",
   "metadata": {},
   "source": [
    "# Imports"
   ]
  },
  {
   "cell_type": "code",
   "execution_count": 56,
   "id": "a3d7f61b",
   "metadata": {},
   "outputs": [],
   "source": [
    "# imports, including functions provided with the starter\n",
    "import pandas as pd\n",
    "import numpy as np\n",
    "import matplotlib.pyplot as plt\n",
    "import os\n",
    "from sklearn.neighbors import KNeighborsClassifier\n",
    "from sklearn.tree import DecisionTreeClassifier\n",
    "from sklearn.model_selection import train_test_split\n",
    "import matplotlib.pyplot as plt\n",
    "from scipy.stats import pearsonr\n",
    "from numpy.random import seed\n",
    "import statsmodels.api as sm\n",
    "\n",
    "if 'notebooks' in os.getcwd():\n",
    "    os.chdir('..')\n",
    "\n",
    "from groupXY_functions import *\n"
   ]
  },
  {
   "cell_type": "markdown",
   "id": "8f3e9a0a",
   "metadata": {},
   "source": [
    "# Defining functions and preprocessing"
   ]
  },
  {
   "cell_type": "code",
   "execution_count": 2,
   "id": "3d74d5d6",
   "metadata": {},
   "outputs": [],
   "source": [
    "# Return smallest and largest x, smallest and largest y that contains a white pixel, so that we can crop it to measure asymmetry\n",
    "def get_extremes(image):\n",
    "    non_zeros = np.nonzero(image)\n",
    "    return min(non_zeros[1]), max(non_zeros[1]), min(non_zeros[0]), max(non_zeros[0])"
   ]
  },
  {
   "cell_type": "code",
   "execution_count": 3,
   "id": "e567710b",
   "metadata": {},
   "outputs": [],
   "source": [
    "# Crops both the image and the mask to the actual size of the mask, saves to files\n",
    "# Returns cropped image and mask in the array\n",
    "def crop(image_id):\n",
    "    path = 'data/example_image'\n",
    "    path_cropped = path + '_cropped'\n",
    "    path_mask = 'data/example_segmentation'\n",
    "    path_mask_cropped = path_mask + '_cropped'\n",
    "    if os.path.exists(path_cropped + image_id + '.jpg'):\n",
    "        image = plt.imread(path_cropped + '/' + image_id + '.jpg')\n",
    "        mask = plt.imread(path_mask_cropped + '/' + image_id + '.png')\n",
    "        return image, mask\n",
    "    if not os.path.exists(path_cropped):\n",
    "        os.mkdir(path_cropped)\n",
    "        os.mkdir(path_mask_cropped)\n",
    "    image = plt.imread(path + '/' + image_id + '.jpg')\n",
    "    mask = plt.imread(path_mask + '/' + image_id + '_segmentation.png')\n",
    "    min_x, max_x, min_y, max_y = get_extremes(mask)\n",
    "    mask = mask[min_y:max_y+1, min_x:max_x+1]\n",
    "    plt.imsave(path_mask_cropped + '/' + image_id + '.png', mask, cmap=plt.cm.gray)\n",
    "    image_cropped = image.copy()[min_y:max_y+1, min_x:max_x+1, :]\n",
    "    to_black = mask==0\n",
    "    image_cropped[to_black] = (0,0,0)\n",
    "    plt.imsave(path_cropped + '/' + image_id + '.jpg', image_cropped)   \n",
    "    return image, mask"
   ]
  },
  {
   "cell_type": "code",
   "execution_count": 4,
   "id": "5703c959",
   "metadata": {},
   "outputs": [],
   "source": [
    "# Assymetry function\n",
    "# 0 is a perfect circle, 1 has all the quarters of an image completely different\n",
    "def asymmetry_score(image):\n",
    "\n",
    "    height, width = np.shape(image)\n",
    "    if width % 2:\n",
    "        # Subparts need to be the same size to compare them\n",
    "        left_half = image[:, 0:width//2+1]\n",
    "    else:\n",
    "        left_half = image[:, 0:width//2]\n",
    "    # \"folding\" on vertical axis\n",
    "    right_half = np.flip(image[:, width//2:], 1)\n",
    "    \n",
    "    if height % 2:\n",
    "        top_half = image[0:height//2+1, :]\n",
    "    else:\n",
    "        top_half = image[0:height//2, :]\n",
    "    # \"folding\" on hotizontal axis\n",
    "    bottom_half = np.flip(image[height//2:, :], 0)\n",
    "    \n",
    "    hor_diff = np.where(left_half != right_half, 1, 0)\n",
    "    ver_diff = np.where(top_half != bottom_half, 1, 0)\n",
    "    return round((np.sum(hor_diff) + np.sum(ver_diff)) / (width * height),3)"
   ]
  },
  {
   "cell_type": "code",
   "execution_count": 5,
   "id": "080d1244",
   "metadata": {},
   "outputs": [],
   "source": [
    "# Border function, compactness\n",
    "# Due to inherit limitations of digital images, for some masks returend compactness value is below 1, which is wrong.\n",
    "# Nonetheless, such an imprecission is acceptable given that multiple variables are considred in diagnoses \n",
    "def get_compactness(area, perimeter):\n",
    "    return round(perimeter**2 / (4 * np.pi * area),3)"
   ]
  },
  {
   "cell_type": "code",
   "execution_count": 6,
   "id": "40f9b52f",
   "metadata": {},
   "outputs": [],
   "source": [
    "def colour_extraction (cropped_image):\n",
    "    \n",
    "    # split the image into its respective RGB components\n",
    "    r, g, b = np.array_split(cropped_image, 3, 2)\n",
    "    \n",
    "    return r,g,b\n",
    "\n",
    "def colour_variance_avg(r,g,b):\n",
    "    return np.mean((np.var(r[r>0]),np.var(g[g>0]),np.var(b[b>0])))"
   ]
  },
  {
   "cell_type": "code",
   "execution_count": 7,
   "id": "840ddef2",
   "metadata": {},
   "outputs": [],
   "source": [
    "# Import a data frame with file names and associated diseases\n",
    "df_conditions = pd.read_csv('data/example_ground_truth.csv')\n",
    "\n",
    "# A new data frame is created, which will store results of ABC tests \n",
    "df_evaluations = pd.DataFrame(df_conditions['image_id'])\n",
    "for name in ['asymmetry', 'border', 'colour']:\n",
    "    df_evaluations[name] = 0.0\n",
    "    \n",
    "for i in range(df_evaluations.shape[0]):\n",
    "    image, mask = crop(df_evaluations.at[i, 'image_id'])\n",
    "    df_evaluations.at[i, 'asymmetry'] = asymmetry_score(mask)\n",
    "    area, perimeter = measure_area_perimeter(mask)\n",
    "    df_evaluations.at[i, 'border'] = get_compactness(area, perimeter)\n",
    "    r,g,b = colour_extraction(image)\n",
    "    df_evaluations.at[i,'colour'] = colour_variance_avg(r,g,b)"
   ]
  },
  {
   "cell_type": "markdown",
   "id": "f35e7e58",
   "metadata": {
    "scrolled": true
   },
   "source": [
    "# Standarisation of features' values"
   ]
  },
  {
   "cell_type": "code",
   "execution_count": 8,
   "id": "34a36b4a",
   "metadata": {},
   "outputs": [
    {
     "data": {
      "image/png": "[encoded data removed]",
      "text/plain": [
       "<Figure size 720x864 with 3 Axes>"
      ]
     },
     "metadata": {
      "needs_background": "light"
     },
     "output_type": "display_data"
    }
   ],
   "source": [
    "#data before standarisation\n",
    "fig, axs = plt.subplots(3,figsize=(10,12))\n",
    "axs[0].hist(df_evaluations['asymmetry'])\n",
    "axs[1].hist(df_evaluations['border'])\n",
    "axs[2].hist(df_evaluations['colour'])\n",
    "fig.tight_layout()\n"
   ]
  },
  {
   "cell_type": "code",
   "execution_count": 9,
   "id": "e87888b6",
   "metadata": {},
   "outputs": [
    {
     "data": {
      "text/html": [
       "<div>\n",
       "<style scoped>\n",
       "    .dataframe tbody tr th:only-of-type {\n",
       "        vertical-align: middle;\n",
       "    }\n",
       "\n",
       "    .dataframe tbody tr th {\n",
       "        vertical-align: top;\n",
       "    }\n",
       "\n",
       "    .dataframe thead th {\n",
       "        text-align: right;\n",
       "    }\n",
       "</style>\n",
       "<table border=\"1\" class=\"dataframe\">\n",
       "  <thead>\n",
       "    <tr style=\"text-align: right;\">\n",
       "      <th></th>\n",
       "      <th>image_id</th>\n",
       "      <th>asymmetry</th>\n",
       "      <th>border</th>\n",
       "      <th>colour</th>\n",
       "    </tr>\n",
       "  </thead>\n",
       "  <tbody>\n",
       "    <tr>\n",
       "      <th>0</th>\n",
       "      <td>ISIC_0001769</td>\n",
       "      <td>0.195</td>\n",
       "      <td>1.458</td>\n",
       "      <td>618.627600</td>\n",
       "    </tr>\n",
       "    <tr>\n",
       "      <th>1</th>\n",
       "      <td>ISIC_0001852</td>\n",
       "      <td>0.126</td>\n",
       "      <td>0.984</td>\n",
       "      <td>447.253504</td>\n",
       "    </tr>\n",
       "    <tr>\n",
       "      <th>2</th>\n",
       "      <td>ISIC_0001871</td>\n",
       "      <td>0.259</td>\n",
       "      <td>0.999</td>\n",
       "      <td>1623.115145</td>\n",
       "    </tr>\n",
       "    <tr>\n",
       "      <th>3</th>\n",
       "      <td>ISIC_0003462</td>\n",
       "      <td>0.060</td>\n",
       "      <td>0.743</td>\n",
       "      <td>1412.217843</td>\n",
       "    </tr>\n",
       "    <tr>\n",
       "      <th>4</th>\n",
       "      <td>ISIC_0003539</td>\n",
       "      <td>0.416</td>\n",
       "      <td>1.058</td>\n",
       "      <td>306.096484</td>\n",
       "    </tr>\n",
       "    <tr>\n",
       "      <th>...</th>\n",
       "      <td>...</td>\n",
       "      <td>...</td>\n",
       "      <td>...</td>\n",
       "      <td>...</td>\n",
       "    </tr>\n",
       "    <tr>\n",
       "      <th>145</th>\n",
       "      <td>ISIC_0015443</td>\n",
       "      <td>0.099</td>\n",
       "      <td>1.180</td>\n",
       "      <td>1162.263646</td>\n",
       "    </tr>\n",
       "    <tr>\n",
       "      <th>146</th>\n",
       "      <td>ISIC_0015445</td>\n",
       "      <td>0.570</td>\n",
       "      <td>2.387</td>\n",
       "      <td>1805.319398</td>\n",
       "    </tr>\n",
       "    <tr>\n",
       "      <th>147</th>\n",
       "      <td>ISIC_0015483</td>\n",
       "      <td>0.072</td>\n",
       "      <td>1.445</td>\n",
       "      <td>1966.925779</td>\n",
       "    </tr>\n",
       "    <tr>\n",
       "      <th>148</th>\n",
       "      <td>ISIC_0015496</td>\n",
       "      <td>0.201</td>\n",
       "      <td>1.491</td>\n",
       "      <td>4029.559465</td>\n",
       "    </tr>\n",
       "    <tr>\n",
       "      <th>149</th>\n",
       "      <td>ISIC_0015627</td>\n",
       "      <td>0.249</td>\n",
       "      <td>1.597</td>\n",
       "      <td>658.910732</td>\n",
       "    </tr>\n",
       "  </tbody>\n",
       "</table>\n",
       "<p>150 rows × 4 columns</p>\n",
       "</div>"
      ],
      "text/plain": [
       "         image_id  asymmetry  border       colour\n",
       "0    ISIC_0001769      0.195   1.458   618.627600\n",
       "1    ISIC_0001852      0.126   0.984   447.253504\n",
       "2    ISIC_0001871      0.259   0.999  1623.115145\n",
       "3    ISIC_0003462      0.060   0.743  1412.217843\n",
       "4    ISIC_0003539      0.416   1.058   306.096484\n",
       "..            ...        ...     ...          ...\n",
       "145  ISIC_0015443      0.099   1.180  1162.263646\n",
       "146  ISIC_0015445      0.570   2.387  1805.319398\n",
       "147  ISIC_0015483      0.072   1.445  1966.925779\n",
       "148  ISIC_0015496      0.201   1.491  4029.559465\n",
       "149  ISIC_0015627      0.249   1.597   658.910732\n",
       "\n",
       "[150 rows x 4 columns]"
      ]
     },
     "execution_count": 9,
     "metadata": {},
     "output_type": "execute_result"
    }
   ],
   "source": [
    "df_evaluations"
   ]
  },
  {
   "cell_type": "code",
   "execution_count": 24,
   "id": "5f652ddd",
   "metadata": {},
   "outputs": [],
   "source": [
    "for name in ['asymmetry', 'border', 'colour']:\n",
    "    mean = np.mean(df_evaluations[name])\n",
    "    sd = np.std(df_evaluations[name])\n",
    "    for i in range(df_evaluations.shape[0]):\n",
    "        df_evaluations.at[i, name] = (df_evaluations.at[i, name] - mean) / sd"
   ]
  },
  {
   "cell_type": "code",
   "execution_count": 25,
   "id": "5c5a7ec9",
   "metadata": {},
   "outputs": [
    {
     "data": {
      "text/html": [
       "<div>\n",
       "<style scoped>\n",
       "    .dataframe tbody tr th:only-of-type {\n",
       "        vertical-align: middle;\n",
       "    }\n",
       "\n",
       "    .dataframe tbody tr th {\n",
       "        vertical-align: top;\n",
       "    }\n",
       "\n",
       "    .dataframe thead th {\n",
       "        text-align: right;\n",
       "    }\n",
       "</style>\n",
       "<table border=\"1\" class=\"dataframe\">\n",
       "  <thead>\n",
       "    <tr style=\"text-align: right;\">\n",
       "      <th></th>\n",
       "      <th>image_id</th>\n",
       "      <th>asymmetry</th>\n",
       "      <th>border</th>\n",
       "      <th>colour</th>\n",
       "    </tr>\n",
       "  </thead>\n",
       "  <tbody>\n",
       "    <tr>\n",
       "      <th>0</th>\n",
       "      <td>ISIC_0001769</td>\n",
       "      <td>-0.023781</td>\n",
       "      <td>0.578983</td>\n",
       "      <td>-0.232156</td>\n",
       "    </tr>\n",
       "    <tr>\n",
       "      <th>1</th>\n",
       "      <td>ISIC_0001852</td>\n",
       "      <td>-0.709402</td>\n",
       "      <td>-0.476142</td>\n",
       "      <td>-0.420793</td>\n",
       "    </tr>\n",
       "    <tr>\n",
       "      <th>2</th>\n",
       "      <td>ISIC_0001871</td>\n",
       "      <td>0.612156</td>\n",
       "      <td>-0.442752</td>\n",
       "      <td>0.873516</td>\n",
       "    </tr>\n",
       "    <tr>\n",
       "      <th>3</th>\n",
       "      <td>ISIC_0003462</td>\n",
       "      <td>-1.365212</td>\n",
       "      <td>-1.012609</td>\n",
       "      <td>0.641374</td>\n",
       "    </tr>\n",
       "    <tr>\n",
       "      <th>4</th>\n",
       "      <td>ISIC_0003539</td>\n",
       "      <td>2.172190</td>\n",
       "      <td>-0.311418</td>\n",
       "      <td>-0.576170</td>\n",
       "    </tr>\n",
       "    <tr>\n",
       "      <th>...</th>\n",
       "      <td>...</td>\n",
       "      <td>...</td>\n",
       "      <td>...</td>\n",
       "      <td>...</td>\n",
       "    </tr>\n",
       "    <tr>\n",
       "      <th>145</th>\n",
       "      <td>ISIC_0015443</td>\n",
       "      <td>-0.977688</td>\n",
       "      <td>-0.039845</td>\n",
       "      <td>0.366242</td>\n",
       "    </tr>\n",
       "    <tr>\n",
       "      <th>146</th>\n",
       "      <td>ISIC_0015445</td>\n",
       "      <td>3.702415</td>\n",
       "      <td>2.646940</td>\n",
       "      <td>1.074074</td>\n",
       "    </tr>\n",
       "    <tr>\n",
       "      <th>147</th>\n",
       "      <td>ISIC_0015483</td>\n",
       "      <td>-1.245974</td>\n",
       "      <td>0.550045</td>\n",
       "      <td>1.251959</td>\n",
       "    </tr>\n",
       "    <tr>\n",
       "      <th>148</th>\n",
       "      <td>ISIC_0015496</td>\n",
       "      <td>0.035838</td>\n",
       "      <td>0.652441</td>\n",
       "      <td>3.522368</td>\n",
       "    </tr>\n",
       "    <tr>\n",
       "      <th>149</th>\n",
       "      <td>ISIC_0015627</td>\n",
       "      <td>0.512791</td>\n",
       "      <td>0.888398</td>\n",
       "      <td>-0.187815</td>\n",
       "    </tr>\n",
       "  </tbody>\n",
       "</table>\n",
       "<p>150 rows × 4 columns</p>\n",
       "</div>"
      ],
      "text/plain": [
       "         image_id  asymmetry    border    colour\n",
       "0    ISIC_0001769  -0.023781  0.578983 -0.232156\n",
       "1    ISIC_0001852  -0.709402 -0.476142 -0.420793\n",
       "2    ISIC_0001871   0.612156 -0.442752  0.873516\n",
       "3    ISIC_0003462  -1.365212 -1.012609  0.641374\n",
       "4    ISIC_0003539   2.172190 -0.311418 -0.576170\n",
       "..            ...        ...       ...       ...\n",
       "145  ISIC_0015443  -0.977688 -0.039845  0.366242\n",
       "146  ISIC_0015445   3.702415  2.646940  1.074074\n",
       "147  ISIC_0015483  -1.245974  0.550045  1.251959\n",
       "148  ISIC_0015496   0.035838  0.652441  3.522368\n",
       "149  ISIC_0015627   0.512791  0.888398 -0.187815\n",
       "\n",
       "[150 rows x 4 columns]"
      ]
     },
     "execution_count": 25,
     "metadata": {},
     "output_type": "execute_result"
    }
   ],
   "source": [
    "df_evaluations"
   ]
  },
  {
   "cell_type": "code",
   "execution_count": 12,
   "id": "32dbf715",
   "metadata": {},
   "outputs": [
    {
     "data": {
      "image/png": "[encoded data removed]",
      "text/plain": [
       "<Figure size 720x864 with 3 Axes>"
      ]
     },
     "metadata": {
      "needs_background": "light"
     },
     "output_type": "display_data"
    }
   ],
   "source": [
    "#data after standarisation\n",
    "fig, axs = plt.subplots(3,figsize=(10,12))\n",
    "axs[0].hist(df_evaluations['asymmetry'])\n",
    "axs[1].hist(df_evaluations['border'])\n",
    "axs[2].hist(df_evaluations['colour'])\n",
    "fig.tight_layout()"
   ]
  },
  {
   "cell_type": "code",
   "execution_count": 13,
   "id": "1be51039",
   "metadata": {},
   "outputs": [],
   "source": [
    "##Loading data#"
   ]
  },
  {
   "cell_type": "code",
   "execution_count": 14,
   "id": "b75c86c3",
   "metadata": {
    "scrolled": true
   },
   "outputs": [
    {
     "name": "stdout",
     "output_type": "stream",
     "text": [
      "   melanoma  asymmetry    border    colour\n",
      "0       0.0  -0.023781  0.578983 -0.232156\n",
      "1       0.0  -0.709402 -0.476142 -0.420793\n",
      "2       0.0   0.612156 -0.442752  0.873516\n",
      "3       0.0  -1.365212 -1.012609  0.641374\n",
      "4       0.0   2.172190 -0.311418 -0.576170\n"
     ]
    }
   ],
   "source": [
    "df = df_conditions.drop('seborrheic_keratosis', axis=1).merge(df_evaluations, on='image_id').drop('image_id', axis=1)\n",
    "print(df.head())"
   ]
  },
  {
   "cell_type": "code",
   "execution_count": 15,
   "id": "303e2892",
   "metadata": {},
   "outputs": [],
   "source": [
    "# Split dataset to select feature and evaluate the classifier\n",
    "X = df[['asymmetry', 'border', 'colour']]\n",
    "y = df['melanoma']\n",
    "\n",
    "# X_train and y_train used for training, X_val and y_val are for predicting and validating the ML model\n",
    "X_train, X_val, y_train, y_val = train_test_split(\n",
    "        X, y, stratify=y, test_size=0.4, random_state=0)\n",
    "\n"
   ]
  },
  {
   "cell_type": "code",
   "execution_count": 16,
   "id": "9f8388c3",
   "metadata": {},
   "outputs": [],
   "source": [
    "# Train a classifier\n",
    "knn1 = KNeighborsClassifier(n_neighbors=1) # other hyperparameters possible\n",
    "knn1trained = knn1.fit(X_train, y_train)\n",
    "\n",
    "knn2 = KNeighborsClassifier(n_neighbors=9)\n",
    "knn2trained = knn2.fit(X_train, y_train)\n"
   ]
  },
  {
   "cell_type": "code",
   "execution_count": 17,
   "id": "baaca56e",
   "metadata": {},
   "outputs": [
    {
     "name": "stdout",
     "output_type": "stream",
     "text": [
      "68.33333333333333\n",
      "83.33333333333334\n"
     ]
    }
   ],
   "source": [
    "y_val_knn1 = knn1trained.predict(X_val)\n",
    "y_val_knn2 = knn2trained.predict(X_val)\n",
    "\n",
    "# Accuracy - often used in ML but not suitable for medical imaging in general\n",
    "print(np.sum(y_val_knn1 == y_val) / np.size(y_val) * 100)\n",
    "print(np.sum(y_val_knn2 == y_val) / np.size(y_val) * 100)\n"
   ]
  },
  {
   "cell_type": "markdown",
   "id": "2c66dc11",
   "metadata": {},
   "source": [
    "# Scatters"
   ]
  },
  {
   "cell_type": "code",
   "execution_count": 133,
   "id": "122e38a8",
   "metadata": {},
   "outputs": [],
   "source": [
    "name = k[0:100]\n",
    "asymmetry = name.loc[:,\"Asymmetry\"]\n",
    "border = name.loc[:,\"Border\"]\n",
    "Color = name.loc[:,\"Color\"]\n",
    "Filename = name.loc[:,\"Filename\"]\n",
    "Diagnosis= pd.read_csv(\"data/Diagnosis.csv\")\n",
    "Diag1 = Diagnosis[0:100]\n",
    "melanoma = Diag1.loc[:,\"melanoma\"]\n",
    "Diagnosis1 = pd.read_csv(\"data/Diagnosis.csv\")\n",
    "Diag2 = Diagnosis1.tail(100)\n",
    "keratosis = Diag2.loc[:,\"seborrheic_keratosis\"]\n",
    "\n",
    "\n",
    "df_evaluation= df_evaluations[0:100]"
   ]
  },
  {
   "cell_type": "code",
   "execution_count": 141,
   "id": "e9021ff9",
   "metadata": {},
   "outputs": [],
   "source": [
    "corrma = Diag1['melanoma'].corr(df_evaluation['asymmetry'])\n",
    "corrbo = Diag1['melanoma'].corr(df_evaluation['border'])\n",
    "corrco = Diag1['melanoma'].corr(df_evaluation['colour'])\n"
   ]
  },
  {
   "cell_type": "code",
   "execution_count": 142,
   "id": "eb07b38c",
   "metadata": {},
   "outputs": [],
   "source": [
    "x = Diagnosis[\"melanoma\"].tolist()\n",
    "y = df_evaluation[\"asymmetry\"].tolist()"
   ]
  },
  {
   "cell_type": "code",
   "execution_count": 143,
   "id": "b56edd44",
   "metadata": {},
   "outputs": [
    {
     "name": "stdout",
     "output_type": "stream",
     "text": [
      "                                 OLS Regression Results                                \n",
      "=======================================================================================\n",
      "Dep. Variable:                      y   R-squared (uncentered):                   0.003\n",
      "Model:                            OLS   Adj. R-squared (uncentered):             -0.007\n",
      "Method:                 Least Squares   F-statistic:                             0.2562\n",
      "Date:                Thu, 31 Mar 2022   Prob (F-statistic):                       0.614\n",
      "Time:                        22:07:49   Log-Likelihood:                         -58.728\n",
      "No. Observations:                 100   AIC:                                      119.5\n",
      "Df Residuals:                      99   BIC:                                      122.1\n",
      "Df Model:                           1                                                  \n",
      "Covariance Type:            nonrobust                                                  \n",
      "==============================================================================\n",
      "                 coef    std err          t      P>|t|      [0.025      0.975]\n",
      "------------------------------------------------------------------------------\n",
      "x1             0.0230      0.045      0.506      0.614      -0.067       0.113\n",
      "==============================================================================\n",
      "Omnibus:                       28.529   Durbin-Watson:                   1.580\n",
      "Prob(Omnibus):                  0.000   Jarque-Bera (JB):               42.309\n",
      "Skew:                           1.574   Prob(JB):                     6.50e-10\n",
      "Kurtosis:                       3.498   Cond. No.                         1.00\n",
      "==============================================================================\n",
      "\n",
      "Notes:\n",
      "[1] R² is computed without centering (uncentered) since the model does not contain a constant.\n",
      "[2] Standard Errors assume that the covariance matrix of the errors is correctly specified.\n"
     ]
    }
   ],
   "source": [
    "#MELANOMA AND ASYMMETRY \n",
    "est = sm.OLS(Diag1[\"melanoma\"].tolist(),df_evaluation[\"asymmetry\"].tolist()).fit()\n",
    "print(est.summary())"
   ]
  },
  {
   "cell_type": "code",
   "execution_count": 144,
   "id": "57c537c6",
   "metadata": {},
   "outputs": [
    {
     "name": "stdout",
     "output_type": "stream",
     "text": [
      "                                 OLS Regression Results                                \n",
      "=======================================================================================\n",
      "Dep. Variable:                      y   R-squared (uncentered):                   0.023\n",
      "Model:                            OLS   Adj. R-squared (uncentered):              0.013\n",
      "Method:                 Least Squares   F-statistic:                              2.281\n",
      "Date:                Thu, 31 Mar 2022   Prob (F-statistic):                       0.134\n",
      "Time:                        22:07:50   Log-Likelihood:                         -57.718\n",
      "No. Observations:                 100   AIC:                                      117.4\n",
      "Df Residuals:                      99   BIC:                                      120.0\n",
      "Df Model:                           1                                                  \n",
      "Covariance Type:            nonrobust                                                  \n",
      "==============================================================================\n",
      "                 coef    std err          t      P>|t|      [0.025      0.975]\n",
      "------------------------------------------------------------------------------\n",
      "x1            -0.0693      0.046     -1.510      0.134      -0.160       0.022\n",
      "==============================================================================\n",
      "Omnibus:                       26.645   Durbin-Watson:                   1.558\n",
      "Prob(Omnibus):                  0.000   Jarque-Bera (JB):               38.420\n",
      "Skew:                           1.504   Prob(JB):                     4.54e-09\n",
      "Kurtosis:                       3.413   Cond. No.                         1.00\n",
      "==============================================================================\n",
      "\n",
      "Notes:\n",
      "[1] R² is computed without centering (uncentered) since the model does not contain a constant.\n",
      "[2] Standard Errors assume that the covariance matrix of the errors is correctly specified.\n"
     ]
    }
   ],
   "source": [
    "#MELANOMA AND BORDER\n",
    "est = sm.OLS(Diag1[\"melanoma\"].tolist(),df_evaluation[\"border\"].tolist()).fit()\n",
    "print(est.summary())"
   ]
  },
  {
   "cell_type": "code",
   "execution_count": 145,
   "id": "9b3b095c",
   "metadata": {},
   "outputs": [
    {
     "name": "stdout",
     "output_type": "stream",
     "text": [
      "                                 OLS Regression Results                                \n",
      "=======================================================================================\n",
      "Dep. Variable:                      y   R-squared (uncentered):                   0.084\n",
      "Model:                            OLS   Adj. R-squared (uncentered):              0.075\n",
      "Method:                 Least Squares   F-statistic:                              9.131\n",
      "Date:                Thu, 31 Mar 2022   Prob (F-statistic):                     0.00320\n",
      "Time:                        22:07:51   Log-Likelihood:                         -54.446\n",
      "No. Observations:                 100   AIC:                                      110.9\n",
      "Df Residuals:                      99   BIC:                                      113.5\n",
      "Df Model:                           1                                                  \n",
      "Covariance Type:            nonrobust                                                  \n",
      "==============================================================================\n",
      "                 coef    std err          t      P>|t|      [0.025      0.975]\n",
      "------------------------------------------------------------------------------\n",
      "x1            -0.2170      0.072     -3.022      0.003      -0.360      -0.075\n",
      "==============================================================================\n",
      "Omnibus:                       26.417   Durbin-Watson:                   1.840\n",
      "Prob(Omnibus):                  0.000   Jarque-Bera (JB):               37.657\n",
      "Skew:                           1.484   Prob(JB):                     6.65e-09\n",
      "Kurtosis:                       3.473   Cond. No.                         1.00\n",
      "==============================================================================\n",
      "\n",
      "Notes:\n",
      "[1] R² is computed without centering (uncentered) since the model does not contain a constant.\n",
      "[2] Standard Errors assume that the covariance matrix of the errors is correctly specified.\n"
     ]
    }
   ],
   "source": [
    "#MELANOMA AND COLOUR ----- HERE WE CAN SEE THAT WE HAVE CORRELATION#\n",
    "est = sm.OLS(Diag1[\"melanoma\"].tolist(),df_evaluation[\"colour\"].tolist()).fit()\n",
    "print(est.summary())"
   ]
  },
  {
   "cell_type": "code",
   "execution_count": 146,
   "id": "f29d0ecf",
   "metadata": {},
   "outputs": [
    {
     "name": "stdout",
     "output_type": "stream",
     "text": [
      "                                 OLS Regression Results                                \n",
      "=======================================================================================\n",
      "Dep. Variable:                      y   R-squared (uncentered):                   0.010\n",
      "Model:                            OLS   Adj. R-squared (uncentered):              0.000\n",
      "Method:                 Least Squares   F-statistic:                              1.020\n",
      "Date:                Thu, 31 Mar 2022   Prob (F-statistic):                       0.315\n",
      "Time:                        22:07:51   Log-Likelihood:                         -72.066\n",
      "No. Observations:                 100   AIC:                                      146.1\n",
      "Df Residuals:                      99   BIC:                                      148.7\n",
      "Df Model:                           1                                                  \n",
      "Covariance Type:            nonrobust                                                  \n",
      "==============================================================================\n",
      "                 coef    std err          t      P>|t|      [0.025      0.975]\n",
      "------------------------------------------------------------------------------\n",
      "x1             0.0525      0.052      1.010      0.315      -0.051       0.156\n",
      "==============================================================================\n",
      "Omnibus:                       19.747   Durbin-Watson:                   1.067\n",
      "Prob(Omnibus):                  0.000   Jarque-Bera (JB):               23.075\n",
      "Skew:                           1.132   Prob(JB):                     9.76e-06\n",
      "Kurtosis:                       2.355   Cond. No.                         1.00\n",
      "==============================================================================\n",
      "\n",
      "Notes:\n",
      "[1] R² is computed without centering (uncentered) since the model does not contain a constant.\n",
      "[2] Standard Errors assume that the covariance matrix of the errors is correctly specified.\n"
     ]
    }
   ],
   "source": [
    "#KERATOSIS AND ASYMMETRY\n",
    "\n",
    "est = sm.OLS(Diag2[\"seborrheic_keratosis\"].tolist(),df_evaluation[\"asymmetry\"].tolist()).fit()\n",
    "print(est.summary())"
   ]
  },
  {
   "cell_type": "code",
   "execution_count": 147,
   "id": "ef18a99d",
   "metadata": {},
   "outputs": [
    {
     "name": "stdout",
     "output_type": "stream",
     "text": [
      "                                 OLS Regression Results                                \n",
      "=======================================================================================\n",
      "Dep. Variable:                      y   R-squared (uncentered):                   0.001\n",
      "Model:                            OLS   Adj. R-squared (uncentered):             -0.009\n",
      "Method:                 Least Squares   F-statistic:                             0.1435\n",
      "Date:                Thu, 31 Mar 2022   Prob (F-statistic):                       0.706\n",
      "Time:                        22:07:51   Log-Likelihood:                         -72.507\n",
      "No. Observations:                 100   AIC:                                      147.0\n",
      "Df Residuals:                      99   BIC:                                      149.6\n",
      "Df Model:                           1                                                  \n",
      "Covariance Type:            nonrobust                                                  \n",
      "==============================================================================\n",
      "                 coef    std err          t      P>|t|      [0.025      0.975]\n",
      "------------------------------------------------------------------------------\n",
      "x1             0.0202      0.053      0.379      0.706      -0.085       0.126\n",
      "==============================================================================\n",
      "Omnibus:                       20.475   Durbin-Watson:                   1.074\n",
      "Prob(Omnibus):                  0.000   Jarque-Bera (JB):               23.937\n",
      "Skew:                           1.152   Prob(JB):                     6.34e-06\n",
      "Kurtosis:                       2.336   Cond. No.                         1.00\n",
      "==============================================================================\n",
      "\n",
      "Notes:\n",
      "[1] R² is computed without centering (uncentered) since the model does not contain a constant.\n",
      "[2] Standard Errors assume that the covariance matrix of the errors is correctly specified.\n"
     ]
    }
   ],
   "source": [
    "#KERATOSIS AND BORDER\n",
    "est = sm.OLS(Diag2[\"seborrheic_keratosis\"].tolist(),df_evaluation[\"border\"].tolist()).fit()\n",
    "print(est.summary())"
   ]
  },
  {
   "cell_type": "code",
   "execution_count": 148,
   "id": "31bd0183",
   "metadata": {},
   "outputs": [
    {
     "name": "stdout",
     "output_type": "stream",
     "text": [
      "                                 OLS Regression Results                                \n",
      "=======================================================================================\n",
      "Dep. Variable:                      y   R-squared (uncentered):                   0.153\n",
      "Model:                            OLS   Adj. R-squared (uncentered):              0.144\n",
      "Method:                 Least Squares   F-statistic:                              17.83\n",
      "Date:                Thu, 31 Mar 2022   Prob (F-statistic):                    5.37e-05\n",
      "Time:                        22:07:51   Log-Likelihood:                         -64.299\n",
      "No. Observations:                 100   AIC:                                      130.6\n",
      "Df Residuals:                      99   BIC:                                      133.2\n",
      "Df Model:                           1                                                  \n",
      "Covariance Type:            nonrobust                                                  \n",
      "==============================================================================\n",
      "                 coef    std err          t      P>|t|      [0.025      0.975]\n",
      "------------------------------------------------------------------------------\n",
      "x1            -0.3347      0.079     -4.223      0.000      -0.492      -0.177\n",
      "==============================================================================\n",
      "Omnibus:                       16.552   Durbin-Watson:                   1.357\n",
      "Prob(Omnibus):                  0.000   Jarque-Bera (JB):               18.266\n",
      "Skew:                           0.999   Prob(JB):                     0.000108\n",
      "Kurtosis:                       2.373   Cond. No.                         1.00\n",
      "==============================================================================\n",
      "\n",
      "Notes:\n",
      "[1] R² is computed without centering (uncentered) since the model does not contain a constant.\n",
      "[2] Standard Errors assume that the covariance matrix of the errors is correctly specified.\n"
     ]
    }
   ],
   "source": [
    "#KERATOSIS AND COLOUR\n",
    "est = sm.OLS(Diag2[\"seborrheic_keratosis\"].tolist(),df_evaluation[\"colour\"].tolist()).fit()\n",
    "print(est.summary())"
   ]
  },
  {
   "cell_type": "code",
   "execution_count": null,
   "id": "29ff8dad",
   "metadata": {},
   "outputs": [],
   "source": []
  }
 ],
 "metadata": {
  "kernelspec": {
   "display_name": "Python 3 (ipykernel)",
   "language": "python",
   "name": "python3"
  },
  "language_info": {
   "codemirror_mode": {
    "name": "ipython",
    "version": 3
   },
   "file_extension": ".py",
   "mimetype": "text/x-python",
   "name": "python",
   "nbconvert_exporter": "python",
   "pygments_lexer": "ipython3",
   "version": "3.8.8"
  }
 },
 "nbformat": 4,
 "nbformat_minor": 5
}
