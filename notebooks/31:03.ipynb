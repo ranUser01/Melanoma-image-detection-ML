





<!DOCTYPE html>
<html lang="en" data-color-mode="auto" data-light-theme="light" data-dark-theme="dark">
  <head>
    <meta charset="utf-8">



  <link crossorigin="use-credentials" media="all" integrity="sha512-E9wnWjoxQmh5A1jiWVYDPKOvA8VPf0iKQYoc+9ycMJvtAi9gOSlaUci+W2smxFIlWkV8hkX+O27S8NIB59iIDw==" rel="stylesheet" href="https://github.itu.dk/assets/light-13dc275a3a314268790358e25956033c.css" /><link crossorigin="use-credentials" media="all" integrity="sha512-nYSv3KrFhMlGUpjkFQBLMEN6HvHhijcoubQLjV3DWlcABEi2yDYf6KGUjRubJ5R+dJnKXR7jA4wu5Dg200SApA==" rel="stylesheet" href="https://github.itu.dk/assets/dark-9d84afdcaac584c9465298e415004b30.css" /><link data-color-theme="dark_dimmed" crossorigin="use-credentials" media="all" integrity="sha512-73MN8RaWLT6hOrTrxNJOEI8Pb0ArN01fXatO0tqm/qXy73XBb0FG3f8jd0NfztcQGoLTDF6Pl6AxpbnDvgwAiA==" rel="stylesheet" data-href="https://github.itu.dk/assets/dark_dimmed-ef730df116962d3ea13ab4ebc4d24e10.css" /><link data-color-theme="dark_high_contrast" crossorigin="use-credentials" media="all" integrity="sha512-bOhGZNmild3wSbSBnXK4FdlotedKfGpLBrn2ws0dSVZZaZmQcYoGvkvl1M6L82kHTBkHjonl5pIpbQ9Q066xCw==" rel="stylesheet" data-href="https://github.itu.dk/assets/dark_high_contrast-6ce84664d9a295ddf049b4819d72b815.css" /><link data-color-theme="dark_colorblind" crossorigin="use-credentials" media="all" integrity="sha512-AwOAfDuSE0kUy1kcP+UA/Gj0G3V2UahdhGF/3XKhrgH+rX5j33z3/p8INmxmpC1TF1XDDPjwJAmvCECOdgDCNw==" rel="stylesheet" data-href="https://github.itu.dk/assets/dark_colorblind-0303807c3b92134914cb591c3fe500fc.css" /><link data-color-theme="light_colorblind" crossorigin="use-credentials" media="all" integrity="sha512-MTr0RUpwD911150L11H/RfSf+jCC9M4JQt6f3rFBXTMZZop9I/2FqEUXDYYBLnTqXTel4Ost6mblHDW5IK7Q5Q==" rel="stylesheet" data-href="https://github.itu.dk/assets/light_colorblind-313af4454a700fdd75d79d0bd751ff45.css" /><link data-color-theme="light_high_contrast" crossorigin="use-credentials" media="all" integrity="sha512-YtCQQI4gi5fOKm9+JR5jGw5IqvUk4NlWG6r0YRx3SGXtNYMNuVXlTT3X1HZczk1u9vhCYsMevrnz5FfY2lZyWg==" rel="stylesheet" data-href="https://github.itu.dk/assets/light_high_contrast-62d090408e208b97ce2a6f7e251e631b.css" />
  <link crossorigin="use-credentials" media="all" integrity="sha512-zw7LEKJYRly65tkoCHN9EKkBSW87oNvS/W1iwFRH5uw6orvEHdej1Pom9Hx20gdv+RhaXzHW/3h0QjuAlkhynQ==" rel="stylesheet" href="https://github.itu.dk/assets/frameworks-cf0ecb10a258465cbae6d92808737d10.css" />
  <link crossorigin="use-credentials" media="all" integrity="sha512-lB2fCevPhUwtLv1eZHgK06HpEksaOwYtHJhnJBbiOCsDIVQQXofQ/ZhcrKa726KuiglB99/AQsUJTaZDqXcIyw==" rel="stylesheet" href="https://github.itu.dk/assets/behaviors-941d9f09ebcf854c2d2efd5e64780ad3.css" />
  
  
  
  
  <link crossorigin="use-credentials" media="all" integrity="sha512-ulKhp/EFOePuxILxSRWBMlEpbtYAFC1oqnaKAZL9E6fk9JyQBcAIYb8I06XDuCH31I2y+7Hpu3NT1CAk4NtosQ==" rel="stylesheet" href="https://github.itu.dk/assets/github-ba52a1a7f10539e3eec482f149158132.css" />

  <script crossorigin="use-credentials" defer="defer" integrity="sha512-kpMz2WTrXY4m62SKDEVfDwbCiJ46+FC6FSEM/OV7Uod3htViFQMRx8SGZhUG83Yb0CYdaVVU58DE9hi5e6xmPA==" type="application/javascript" src="https://github.itu.dk/assets/environment-929333d9.js"></script>
    <script crossorigin="use-credentials" defer="defer" integrity="sha512-+cOLzcLgBELaL5Zch/8tt7IfcY/pitJKCKlZAdwBzfkFIMxeFq0BbqpTcPr5wV/FArZA293KtrAliTS0n3O21Q==" type="application/javascript" src="https://github.itu.dk/assets/chunk-frameworks-f9c38bcd.js"></script>
    <script crossorigin="use-credentials" defer="defer" integrity="sha512-EJrMWr2CjD94vCgVfSrOYzZ+HxC7+2x71ZjtMspWDIMT3AQqjKor9CRB20G/9FEeYygdlDK2jKflbH3rqK5g/w==" type="application/javascript" src="https://github.itu.dk/assets/chunk-vendor-109acc5a.js"></script>
  
  <script crossorigin="use-credentials" defer="defer" integrity="sha512-f55XD6z8KNyninbfyLehncldpHf40Wi3kIR25xwW5Nnb1e4+eK7iP8i4t7Gk6l3fuWS5ZdiEmpASC00V/OThyQ==" type="application/javascript" src="https://github.itu.dk/assets/behaviors-7f9e570f.js"></script>
  
    <script crossorigin="use-credentials" defer="defer" integrity="sha512-ODZJzCJpaOfusrIka5QVZQcPiO9LBGyrrMYjhhJWSLuCN5WbZ5xiEiiOPOKVu71dqygyRdB2TY7AKPA1J5hqdg==" type="application/javascript" data-module-id="./chunk-unveil.js" data-src="https://github.itu.dk/assets/chunk-unveil-383649cc.js"></script>
    <script crossorigin="use-credentials" defer="defer" integrity="sha512-emPgUbSwW9ezLCgRnTE7n4fbbfc/MqEEDHmnkmG61dTyjWKHTYKN4wN3OPS7SY0fwmSJ8mB5+gng2nZw4/HsUg==" type="application/javascript" data-module-id="./chunk-animate-on-scroll.js" data-src="https://github.itu.dk/assets/chunk-animate-on-scroll-7a63e051.js"></script>
    <script crossorigin="use-credentials" defer="defer" integrity="sha512-ocfEAp6AJvGh4otXKow+AVJ14ysircwHagMkRQ3hoQvuy/U9agyT1cYKYiSYph1VLNaI/aAXwVd2go1pb3DD8A==" type="application/javascript" data-module-id="./chunk-input-demux.js" data-src="https://github.itu.dk/assets/chunk-input-demux-a1c7c402.js"></script>
    <script crossorigin="use-credentials" defer="defer" integrity="sha512-tM2UlPYv6Z04ZoFXp/P+9sanpA9adLc2Y8CIfnVE7OvO0Z41BNLEyIIuxIE87D5su+5Q7HREnk5ZBKWPL8IOQg==" type="application/javascript" data-module-id="./chunk-ref-selector.js" data-src="https://github.itu.dk/assets/chunk-ref-selector-b4cd9494.js"></script>
    <script crossorigin="use-credentials" defer="defer" integrity="sha512-NMro0lDXA+sV+DanulWznNJ373LtpbIC8kyFP60F0nxkZlm6DjRvv1d3hlp+rtSfG+L1NnCKlhIOOoBTOAjupg==" type="application/javascript" data-module-id="./chunk-filter-input.js" data-src="https://github.itu.dk/assets/chunk-filter-input-34cae8d2.js"></script>
    <script crossorigin="use-credentials" defer="defer" integrity="sha512-ynV5nM8UuCr4KZ/msFeRxRL6LnG+XUKzIfh6LNIzQ21ecjLVPvm53ghTE54aIuSUaHJWHnsYg8FRzycZIcRHiA==" type="application/javascript" data-module-id="./chunk-edit.js" data-src="https://github.itu.dk/assets/chunk-edit-ca75799c.js"></script>
    <script crossorigin="use-credentials" defer="defer" integrity="sha512-MXGEZL0oVRLVvLK6wu1l5FR/EpWpezuX/jtnfpeobOo0ohJcoeNiC335/neqTQHTfK7WXDX1bURWEUy8uzJXQg==" type="application/javascript" data-module-id="./chunk-responsive-underlinenav.js" data-src="https://github.itu.dk/assets/chunk-responsive-underlinenav-31718464.js"></script>
    <script crossorigin="use-credentials" defer="defer" integrity="sha512-gmw7obKL/JEHWPp6zWFh+ynbXUFOidj1DN2aPiTDwP8Gair0moVuDmA340LD84A29I3ZPak19CEiumG+oIiseg==" type="application/javascript" data-module-id="./chunk-tag-input.js" data-src="https://github.itu.dk/assets/chunk-tag-input-826c3ba1.js"></script>
    <script crossorigin="use-credentials" defer="defer" integrity="sha512-Ao9llFIlj54ApuKf2QLboXukbu2h7MHfMmtYHrrsVe1lprKNLiA0usVcRpvruKhfT5STDuWm/GGmyx8ox27hWQ==" type="application/javascript" data-module-id="./chunk-notification-list-focus.js" data-src="https://github.itu.dk/assets/chunk-notification-list-focus-028f6594.js"></script>
    <script crossorigin="use-credentials" defer="defer" integrity="sha512-SPWd3rzrxmU6xW6vy1JPWCd+3uWFWmnd0MVGpmw/TpHWUAdLWDqL8kWyC/sBIZJmda4mTtUO1DHJQzAXRSrC+g==" type="application/javascript" data-module-id="./chunk-cookies.js" data-src="https://github.itu.dk/assets/chunk-cookies-48f59dde.js"></script>
    <script crossorigin="use-credentials" defer="defer" integrity="sha512-hjey7b0+UFZG85cw5+e+8/fHY3YiTdErWMpFZNpvEATl87TyXDWIAeQpK+KYZgGojs9Df161zUjYHzoDK8qndA==" type="application/javascript" data-module-id="./chunk-async-export.js" data-src="https://github.itu.dk/assets/chunk-async-export-8637b2ed.js"></script>
    <script crossorigin="use-credentials" defer="defer" integrity="sha512-tw9SApiMkftVBYeb6/VGhEwGNw8tlyBhXc9RVXH4UbCD6u+48uuCMvXf3bxvBdOld0OoYg83SnD2mgJWhdaTiQ==" type="application/javascript" data-module-id="./chunk-premium-runners.js" data-src="https://github.itu.dk/assets/chunk-premium-runners-b70f5202.js"></script>
    <script crossorigin="use-credentials" defer="defer" integrity="sha512-wCg/G4Q1mgx/gbFVTXch0J8aGE7YGVjE9172v1PS2nYv6uplggTSJkx635qBkztNlBdgdjlOMZWRxjDxafSPRw==" type="application/javascript" data-module-id="./chunk-get-repo-element.js" data-src="https://github.itu.dk/assets/chunk-get-repo-element-c0283f1b.js"></script>
    <script crossorigin="use-credentials" defer="defer" integrity="sha512-Oy6lTk/9YwO2U8Aku66U9f0Po+r4dKJ5JEXY1N9LJzUldCPUAk9eJYBa+fIQEuUDsO51u8Y90SCzaH414vZVMw==" type="application/javascript" data-module-id="./chunk-prefetched-provider.js" data-src="https://github.itu.dk/assets/chunk-prefetched-provider-3b2ea54e.js"></script>
    <script crossorigin="use-credentials" defer="defer" integrity="sha512-xhSAO0KtnFAlRqAK+mg8BPj/J334ccvnCmmjmBQBCgZcsoO9teHJSS6oAn3XOWYFsWPU2JehwG7S3OVEbLwdUg==" type="application/javascript" data-module-id="./chunk-color-modes.js" data-src="https://github.itu.dk/assets/chunk-color-modes-c614803b.js"></script>
    <script crossorigin="use-credentials" defer="defer" integrity="sha512-jitxouuFY6SUcDZV5W3jhadVEIfFBfCQZxfPV3kxNnsWEBzbxMJFp0ccLb7+OlBjSs1zU/MNtuOV6T9Ay7lx4w==" type="application/javascript" data-module-id="./chunk-copy.js" data-src="https://github.itu.dk/assets/chunk-copy-8e2b71a2.js"></script>
    <script crossorigin="use-credentials" defer="defer" integrity="sha512-gwuBCPcczyGD5IyVEn/uqJXvT07GaVMryQC+ZfDhViO9r2JaqeAc4ooM3cVSjqo4m3IK6Y+boPI8MSf4mLlAgQ==" type="application/javascript" data-module-id="./chunk-voting.js" data-src="https://github.itu.dk/assets/chunk-voting-830b8108.js"></script>
    <script crossorigin="use-credentials" defer="defer" integrity="sha512-HDsLJf6gAN+WDFaJneJwmIY82XkZKWqeX7tStBLRh1XM53K8vMV6JZvjq/UQXszaNVWxWcuYtgYTG6ZWo8+QSw==" type="application/javascript" data-module-id="./chunk-confetti.js" data-src="https://github.itu.dk/assets/chunk-confetti-1c3b0b25.js"></script>
    <script crossorigin="use-credentials" defer="defer" integrity="sha512-vAs99bZfAF+pQjzGYSEM/dzYwm4SIxUxrcjdLuatAV6WJu/kfw8+s/SO7In/gHFhCR08sl7a38vA+dDmYAYHyQ==" type="application/javascript" data-module-id="./chunk-codemirror.js" data-src="https://github.itu.dk/assets/chunk-codemirror-bc0b3df5.js"></script>
    <script crossorigin="use-credentials" defer="defer" integrity="sha512-Gr3ZcJt5t73JeBM3NwOEziKyDZ3HpHwzqZL/c1pgTUfo+6QC5f88XXRw/RT6X2diwqvaa3OVFh0oWsZ9ZxhtdQ==" type="application/javascript" data-module-id="./chunk-tip.js" data-src="https://github.itu.dk/assets/chunk-tip-1abdd970.js"></script>
    <script crossorigin="use-credentials" defer="defer" integrity="sha512-EdQvlnI4Pu5Q6K0HCvp+mi0Vw9ZuwaEuhbnCbmFKX+c0xwiUWY0L3n9P0F6doLhaHhfpvW3718+miL11WG4BeA==" type="application/javascript" data-module-id="./chunk-line.js" data-src="https://github.itu.dk/assets/chunk-line-11d42f96.js"></script>
    <script crossorigin="use-credentials" defer="defer" integrity="sha512-4zSHP2sQXPKoN9jFy8q2ThHsQNej8s4qhubSR4g0/2dTexAEnoTG+RbaffdIhmjfghGjpS/DlE0cdSTFEOcipQ==" type="application/javascript" data-module-id="./chunk-array.js" data-src="https://github.itu.dk/assets/chunk-array-e334873f.js"></script>
    <script crossorigin="use-credentials" defer="defer" integrity="sha512-g8fb6U7h9SkWgiK69nfNMn4aN5D2YBYPZUbCIuLpemWoOw8NOaZY8Z0hPq4RUVs4+bYdCFR6K719k8lwFeUijg==" type="application/javascript" data-module-id="./chunk-band.js" data-src="https://github.itu.dk/assets/chunk-band-83c7dbe9.js"></script>
    <script crossorigin="use-credentials" defer="defer" integrity="sha512-4GJz2wyWwjq7P4hyx3qSkjvnTO7RG5cWvnePVXPB+Oji6MBVugAdl7kCTKbpX8+Ae2ONvGJwFzSc9A7m1pqzXw==" type="application/javascript" data-module-id="./chunk-toast.js" data-src="https://github.itu.dk/assets/chunk-toast-e06273db.js"></script>
    <script crossorigin="use-credentials" defer="defer" integrity="sha512-miaiZ1xkDsWBUsURHOmeYtbgVKQGnm1octCo/lDXUmPzDyjtubnHULRVw1AK+sttwdwyB0+LOyhIVAWCNSGx+A==" type="application/javascript" data-module-id="./chunk-delayed-loading-element.js" data-src="https://github.itu.dk/assets/chunk-delayed-loading-element-9a26a267.js"></script>
    <script crossorigin="use-credentials" defer="defer" integrity="sha512-GD25CNhMGDMzEmeFhUT0FILBupAkx5/CHohnYXOP1togy40O0iu/lASaSp3gV8ue0nwscalJVQqR5gKDRHHDVg==" type="application/javascript" data-module-id="./chunk-three.module.js" data-src="https://github.itu.dk/assets/chunk-three.module-183db908.js"></script>
    <script crossorigin="use-credentials" defer="defer" integrity="sha512-KZTKdFg9JyLQOyKdb4KuuAfbJ9ujPPJPbt9P8/IERFXBqLOcXBp4+sEN4SWRG3tU5X8mYrH4GaFY2A9LVzZLTg==" type="application/javascript" data-module-id="./chunk-invitations.js" data-src="https://github.itu.dk/assets/chunk-invitations-2994ca74.js"></script>
    <script crossorigin="use-credentials" defer="defer" integrity="sha512-vFR+IqThljOLrAWmjhOL/kiQrjgZZg95uPovX0J7kRH5p7Y049LDRZaXLMDijfeqqk71d3MMn9XP5bUcH+lB9w==" type="application/javascript" data-module-id="./chunk-profile.js" data-src="https://github.itu.dk/assets/chunk-profile-bc547e22.js"></script>
    <script crossorigin="use-credentials" defer="defer" integrity="sha512-W3TFrSn3Iqu38aVxxYxFiNGzaVmLXtGfwRDVRH1RwRvqPVerX1fjQPEYag+HqAoWaGy5ssVFp42oyOIV93afBw==" type="application/javascript" data-module-id="./chunk-overview.js" data-src="https://github.itu.dk/assets/chunk-overview-5b74c5ad.js"></script>
    <script crossorigin="use-credentials" defer="defer" integrity="sha512-pTTrav4l7gbsAu4I8D/EeswJmvjNoSDQG+m8IxXwFHEZ1guasobEmCNB3H5gy9brild3bKp5LqpoPzwx631/rA==" type="application/javascript" data-module-id="./chunk-advanced.js" data-src="https://github.itu.dk/assets/chunk-advanced-a534eb6a.js"></script>
    <script crossorigin="use-credentials" defer="defer" integrity="sha512-6Rmd0BBAsJ9ouvb/pgrkToMPs5ogcqi8rcQ7R3GDPPHIjlu0NZ0Bx6HUn/aOruMCECETHm4Exfs5gjYdHs66RQ==" type="application/javascript" data-module-id="./chunk-runner-groups.js" data-src="https://github.itu.dk/assets/chunk-runner-groups-e9199dd0.js"></script>
    <script crossorigin="use-credentials" defer="defer" integrity="sha512-5H5N/3G/20nmVKntphXb9z0H9q3URFDmHSccLhFkMSA8ILAA9mYlRKCWAWoDcl/W437jtGw1tIxjWStfInvidw==" type="application/javascript" data-module-id="./chunk-profile-pins-element.js" data-src="https://github.itu.dk/assets/chunk-profile-pins-element-e47e4dff.js"></script>
    <script crossorigin="use-credentials" defer="defer" integrity="sha512-6WJL+zyYirKxwD8MNBenuxbMKvCeskXBrXISNlqhV3kltmI8kiSjUX0nDQM3fXeSakcll12sYS8Pli1GFPtG9Q==" type="application/javascript" data-module-id="./chunk-emoji-picker-element.js" data-src="https://github.itu.dk/assets/chunk-emoji-picker-element-e9624bfb.js"></script>
    <script crossorigin="use-credentials" defer="defer" integrity="sha512-EvJ2Fip59DXgARNuwTWgjdVqoCjhXQL73SP9yexijlWStKq92sfbKeGK5R4wIP0QOr39WsnW/Kaw3Wpl1QPfog==" type="application/javascript" data-module-id="./chunk-edit-hook-secret-element.js" data-src="https://github.itu.dk/assets/chunk-edit-hook-secret-element-12f27616.js"></script>
    <script crossorigin="use-credentials" defer="defer" integrity="sha512-91JzWtpBUoC7Z4dQpeXRegjwCMooGPFtg/vXxaIGVTxguoOcI/hEdyM7otQGRNQmMencK71thI0oGt11Wgfrww==" type="application/javascript" data-module-id="./chunk-insights-query.js" data-src="https://github.itu.dk/assets/chunk-insights-query-f752735a.js"></script>
    <script crossorigin="use-credentials" defer="defer" integrity="sha512-ySdUENYEBMcTMRqhu0hVPVoUQfqjCkRuNy9wtKP3bEcYkMVYCSfEK4HJUTbuu3r4R7b9i6cGRHh8O3fA2/Jqyw==" type="application/javascript" data-module-id="./chunk-remote-clipboard-copy.js" data-src="https://github.itu.dk/assets/chunk-remote-clipboard-copy-c9275410.js"></script>
    <script crossorigin="use-credentials" defer="defer" integrity="sha512-eO/r0W5ywI2kxVkcH8yquw3n5Gh+cA8lVOgxd+ecgJYU81FB4Q5FqFxgHhx1omigPwexB4ltwXBMDhSeW6qNeQ==" type="application/javascript" data-module-id="./chunk-series-table.js" data-src="https://github.itu.dk/assets/chunk-series-table-78efebd1.js"></script>
    <script crossorigin="use-credentials" defer="defer" integrity="sha512-eCSMVL1aAfhWSme4/3seObqN3HNdkxWVKaAX5bmZmxIXZdv0ixnuFJeESYdLeMED/wQETtQ971A03mLF3ZX8eQ==" type="application/javascript" data-module-id="./chunk-line-chart.js" data-src="https://github.itu.dk/assets/chunk-line-chart-78248c54.js"></script>
    <script crossorigin="use-credentials" defer="defer" integrity="sha512-rZhcZvsxbGBxibYeNv4aHYZkgZzW6xnRcAqmuOCbq/ehJgr75pxgiV7HrGrYrX9HNmyH8T+90HC9WSBZNM4L3g==" type="application/javascript" data-module-id="./chunk-bar-chart.js" data-src="https://github.itu.dk/assets/chunk-bar-chart-ad985c66.js"></script>
    <script crossorigin="use-credentials" defer="defer" integrity="sha512-/QP5yDdYoor56F2+SyPr/8a9FtvCZnnGP0d+lSAHQR5n+xYjaiY6LjJGB/x1cevAH8r4XY/axNN9fRWIfbwAcA==" type="application/javascript" data-module-id="./chunk-stacked-area-chart.js" data-src="https://github.itu.dk/assets/chunk-stacked-area-chart-fd03f9c8.js"></script>
    <script crossorigin="use-credentials" defer="defer" integrity="sha512-3Z8SrZGDj5Zn0mxw+2TebgdD8qZ5VMBhjLLWWN9omTCO/jJm0qwzEq1X1WCiiRNsUdMTsdidQjAydXroWhJ/jw==" type="application/javascript" data-module-id="./chunk-presence-avatars.js" data-src="https://github.itu.dk/assets/chunk-presence-avatars-dd9f12ad.js"></script>
    <script crossorigin="use-credentials" defer="defer" integrity="sha512-MM4pnf2QNKa1zT7uRJuREbRqdt+VJpGXqIzROWMu/Nb4GySJcZagN8mmcIX4fKGBL1B5SilZ7M8BbkEFO3I+0g==" type="application/javascript" data-module-id="./chunk-pulse-authors-graph-element.js" data-src="https://github.itu.dk/assets/chunk-pulse-authors-graph-element-30ce299d.js"></script>
    <script crossorigin="use-credentials" defer="defer" integrity="sha512-aNAcFMlIdG1ocY5LnZylnN/6KXiJxyPvKg7y1Jnai732wdnrjXazcvNiQkRnj5FY8WP6JRa3K4doCReA4nhj7w==" type="application/javascript" data-module-id="./chunk-stacks-input-config-view.js" data-src="https://github.itu.dk/assets/chunk-stacks-input-config-view-68d01c14.js"></script>
    <script crossorigin="use-credentials" defer="defer" integrity="sha512-kbG4tp4Eb0D31U2Z8EaqzgxQQ1kUOOXU6Evcw29Nw/gTlFp+YfQSbyx45jV2gopBJ+EYVoNSwIHWKiYkobp35A==" type="application/javascript" data-module-id="./chunk-community-contributions.js" data-src="https://github.itu.dk/assets/chunk-community-contributions-91b1b8b6.js"></script>
    <script crossorigin="use-credentials" defer="defer" integrity="sha512-Ln+QCbuZ/R66lYDA/uV46yzWS3x4BcV6HmIHSucbDnhog/t5DZuSyZ4o8dV1g3XQb+c0FmTH9w9m9p4vTDPLEg==" type="application/javascript" data-module-id="./chunk-discussion-page-views.js" data-src="https://github.itu.dk/assets/chunk-discussion-page-views-2e7f9009.js"></script>
    <script crossorigin="use-credentials" defer="defer" integrity="sha512-gQ7BRqwcQBw8KL17yph8nQRZcDFj+oGkYkzEutQzuMADVxJWqUABJOgXBd9yz6XW1NdOaL1xmWOx00zda2UqGw==" type="application/javascript" data-module-id="./chunk-discussions-daily-contributors.js" data-src="https://github.itu.dk/assets/chunk-discussions-daily-contributors-810ec146.js"></script>
    <script crossorigin="use-credentials" defer="defer" integrity="sha512-U+lpbTsRbrZovXZmkkmyw9uU6C5g1b8BoN6Mq7BAhlHT6znG2QPlrHo7sBQrOCn/A3nhHOAvm2o/MhXDvPMUuw==" type="application/javascript" data-module-id="./chunk-discussions-new-contributors.js" data-src="https://github.itu.dk/assets/chunk-discussions-new-contributors-53e9696d.js"></script>
    <script crossorigin="use-credentials" defer="defer" integrity="sha512-TLQillrC8dagau7Smjy8GmWx3jhSvBCnkTPMStBL7tvLAaowBuGx38ICPFBdM+3ammiRlfXAaEe5OdpimWnnmQ==" type="application/javascript" data-module-id="./chunk-tweetsodium.js" data-src="https://github.itu.dk/assets/chunk-tweetsodium-4cb42296.js"></script>
    <script crossorigin="use-credentials" defer="defer" integrity="sha512-eHSwjhwcxnPBWzrxiC7rQ53wHZETtJQTXUqb6WPdetPBeznP2kqRbmlyCcMXCIrqxGXpzY34wFs8/rWHYjNLFw==" type="application/javascript" data-module-id="./chunk-jump-to.js" data-src="https://github.itu.dk/assets/chunk-jump-to-7874b08e.js"></script>
    <script crossorigin="use-credentials" defer="defer" integrity="sha512-jy/4bFk4EK3EzC+5m6JZNLLUew8SvtjCDsucaAkcxaen76e74RNAUKtt7OtC9lgshTpB8/J0VFeogLaaoQOPaA==" type="application/javascript" data-module-id="./chunk-user-status-submit.js" data-src="https://github.itu.dk/assets/chunk-user-status-submit-8f2ff86c.js"></script>
    <script crossorigin="use-credentials" defer="defer" integrity="sha512-L2jxBDS9QAN9O1qn7LqMcs0YJn/gF6xW73zSbWPRlVCEnG05dexaoJWkAG6RqALTnXLsj2GTUKnba6DATR828g==" type="application/javascript" data-module-id="./chunk-launch-code-element.js" data-src="https://github.itu.dk/assets/chunk-launch-code-element-2f68f104.js"></script>
    <script crossorigin="use-credentials" defer="defer" integrity="sha512-cvjyIYhR2ZkuFAXHYZSjPTc5wXYOdISgqbXw69CXpDXdxffXmXuzjCcGJNVk3mDNYsVH4Q9sb2UMNPFrNxxRUQ==" type="application/javascript" data-module-id="./chunk-metric-selection-element.js" data-src="https://github.itu.dk/assets/chunk-metric-selection-element-72f8f221.js"></script>
    <script crossorigin="use-credentials" defer="defer" integrity="sha512-/2Oeznu4Qh8QuYb4OvlxCrx/tIfHWnJrhjNFW7MOl0nRMSVUPowbUJ4F+HpdkepXw/OZkF22CN7CN1dRv8bJmQ==" type="application/javascript" data-module-id="./chunk-severity-calculator-element.js" data-src="https://github.itu.dk/assets/chunk-severity-calculator-element-ff639ece.js"></script>
    <script crossorigin="use-credentials" defer="defer" integrity="sha512-qyKiiHoQgmZhPRV7QexCydpjeAl9ryNe0g8r+9eaXogC2a6R4iOXRVZvJLv0rDwACJHhba6t/FFm67Q/5vXypA==" type="application/javascript" data-module-id="./chunk-command-palette-page-element.js" data-src="https://github.itu.dk/assets/chunk-command-palette-page-element-ab22a288.js"></script>
    <script crossorigin="use-credentials" defer="defer" integrity="sha512-7tuVhi/5l3tU55d+BrN6T/sfSnp/K+AOJxNIaiqjsSndTpU/V/z7+nBgEbCtZqiJoTv0DAQvYiVYbT0RsYiYPg==" type="application/javascript" data-module-id="./chunk-command-palette-page-stack-element.js" data-src="https://github.itu.dk/assets/chunk-command-palette-page-stack-element-eedb9586.js"></script>
    <script crossorigin="use-credentials" defer="defer" integrity="sha512-yXHkwiNZgB6O0iSDKE8jrZzTtTyF8YdFFXHcemhWEPuN3sWs1PQrSwEh0Gw4/B9TIzUfvogbqlJ71yLLuqyM+Q==" type="application/javascript" data-module-id="./chunk-readme-toc-element.js" data-src="https://github.itu.dk/assets/chunk-readme-toc-element-c971e4c2.js"></script>
    <script crossorigin="use-credentials" defer="defer" integrity="sha512-aGaoVKNIqNkSpelOnfn0UCDbQLW2XBUVVkOOgVZXFNDfgJgFQNMXALc0964DwIi9kYrkYQIShePOSMFo20hHkw==" type="application/javascript" data-module-id="./chunk-feature-callout-element.js" data-src="https://github.itu.dk/assets/chunk-feature-callout-element-6866a854.js"></script>
    <script crossorigin="use-credentials" defer="defer" integrity="sha512-qNDdxgftImxudCMmfMmcxMBXvelYxSupLrG9ehwER1lFAGR6AND7oYQV5AwDd6+ebC75Pag2r8vRkMpZMuicPA==" type="application/javascript" data-module-id="./chunk-codespaces-policy-form-element.js" data-src="https://github.itu.dk/assets/chunk-codespaces-policy-form-element-a8d0ddc6.js"></script>
    <script crossorigin="use-credentials" defer="defer" integrity="sha512-+aCVCMGHjL+zXInuzIJ4VEykZcUNHS0rSsd1wj/21i2qS3C3J3ErL/8hYR8E+j9+qIRzpyJyKTYlCgajVbFL3g==" type="application/javascript" data-module-id="./chunk-action-list-element.js" data-src="https://github.itu.dk/assets/chunk-action-list-element-f9a09508.js"></script>
    <script crossorigin="use-credentials" defer="defer" integrity="sha512-MIJV83XLkjlcln6mu7u+tcsqh6pQ/tvgAwB0SWaoE/CudwHW2PfC9SB2/gGde1iBpEZxtRzjtrQWTP+FTPpbRw==" type="application/javascript" data-module-id="./chunk-memex-project-picker-element.js" data-src="https://github.itu.dk/assets/chunk-memex-project-picker-element-308255f3.js"></script>
    <script crossorigin="use-credentials" defer="defer" integrity="sha512-ooYcnNLBDnMePhMvdQEQiItFZowYg4gwklGZGCrAWPW1LCxePPkzB1kr8U3Bay0NPKYEDmICeXBqqDPd8EDmqA==" type="application/javascript" data-module-id="./chunk-project-picker-element.js" data-src="https://github.itu.dk/assets/chunk-project-picker-element-a2861c9c.js"></script>
    <script crossorigin="use-credentials" defer="defer" integrity="sha512-YYzSijUU1oA10iMuvfzSHMK7vrQzu8aiLpIfD13kpcq2KVMqdOrIASINY5sBUNPNFZbSLKmBfTcEXEKVcQZHfQ==" type="application/javascript" data-module-id="./chunk-sortable-behavior.js" data-src="https://github.itu.dk/assets/chunk-sortable-behavior-618cd28a.js"></script>
    <script crossorigin="use-credentials" defer="defer" integrity="sha512-6JUQHgkTqBaCCdDugMcO4fQ8YxUHk+m6rwVp2Wxa4FMVz6BbBMPOzGluT4wBq8NTUcFv6DnXSOnt5e85jNgpGg==" type="application/javascript" data-module-id="./chunk-drag-drop.js" data-src="https://github.itu.dk/assets/chunk-drag-drop-e895101e.js"></script>
    <script crossorigin="use-credentials" defer="defer" integrity="sha512-3W46fSBMvt8hnBUTSCHAAPbt4DHI5VXdI2qT0YMyv8sco5NvjmGHp2M0OlTNxepPEOb8LCplxxzCwrgMubsIug==" type="application/javascript" data-module-id="./chunk-contributions-spider-graph.js" data-src="https://github.itu.dk/assets/chunk-contributions-spider-graph-dd6e3a7d.js"></script>
    <script crossorigin="use-credentials" defer="defer" integrity="sha512-VQRofBwNZhBa4vBuw0P5bjjlVtO2R+l1M0TOfMZHX1bB7xy//CFwqmyaL24rLfgLx8sahKZ7eEw1o+nkFoUzNA==" type="application/javascript" data-module-id="./chunk-webgl-warp.js" data-src="https://github.itu.dk/assets/chunk-webgl-warp-5504687c.js"></script>
    <script crossorigin="use-credentials" defer="defer" integrity="sha512-bsgVyD4TU04rcZQ2EJX7gOMOE0xmdR7CpMuF0QJtlfhckodWXv4ROADbS6UL+4SIKq7TOBhcgAo+UFg02gPACw==" type="application/javascript" src="https://github.itu.dk/assets/unsupported-6ec815c8.js"></script>

  <script crossorigin="use-credentials" defer="defer" integrity="sha512-Fg/gpr7tjL05LRfrycxGAYH+pMB0UsKkiCNdBQivLBQSFIMNdHM+vEIHWHkeW4MpJJ1JQSVHdVjNZkvI1JyX2A==" type="application/javascript" src="https://github.itu.dk/assets/settings-160fe0a6.js"></script>
<script crossorigin="use-credentials" defer="defer" integrity="sha512-TPurPTx2bQuGStWy5BMRW+rSpDUdNdiSINPyy3JP9529VwK/f9w+TM45UyXc5GYcQCYqKjS7btdcfq8G6TkqzA==" type="application/javascript" src="https://github.itu.dk/assets/sessions-4cfbab3d.js"></script>

  <meta name="viewport" content="width=device-width">
  
  <title>Sign in via LDAP · GitHub</title>
    <meta name="description" content="GitHub is where people build software. More than 73 million people use GitHub to discover, fork, and contribute to over 200 million projects.">
    <link rel="search" type="application/opensearchdescription+xml" href="/opensearch.xml" title="GitHub">
  <link rel="fluid-icon" href="https://github.itu.dk/fluidicon.png" title="GitHub">
  <meta property="fb:app_id" content="1401488693436528">
  
    <meta property="og:url" content="https://github.itu.dk">
    <meta property="og:site_name" content="GitHub">
    <meta property="og:title" content="Build software better, together">
    <meta property="og:description" content="GitHub is where people build software. More than 73 million people use GitHub to discover, fork, and contribute to over 200 million projects.">
    <meta property="og:image" content="https://github.itu.dk/images/modules/open_graph/github-logo.png">
    <meta property="og:image:type" content="image/png">
    <meta property="og:image:width" content="1200">
    <meta property="og:image:height" content="1200">
    <meta property="og:image" content="https://github.itu.dk/images/modules/open_graph/github-mark.png">
    <meta property="og:image:type" content="image/png">
    <meta property="og:image:width" content="1200">
    <meta property="og:image:height" content="620">
    <meta property="og:image" content="https://github.itu.dk/images/modules/open_graph/github-octocat.png">
    <meta property="og:image:type" content="image/png">
    <meta property="og:image:width" content="1200">
    <meta property="og:image:height" content="620">

    <meta property="twitter:site" content="github">
    <meta property="twitter:site:id" content="13334762">
    <meta property="twitter:creator" content="github">
    <meta property="twitter:creator:id" content="13334762">
    <meta property="twitter:card" content="summary_large_image">
    <meta property="twitter:title" content="GitHub">
    <meta property="twitter:description" content="GitHub is where people build software. More than 73 million people use GitHub to discover, fork, and contribute to over 200 million projects.">
    <meta property="twitter:image:src" content="https://github.itu.dk/images/modules/open_graph/github-logo.png">
    <meta property="twitter:image:width" content="1200">
    <meta property="twitter:image:height" content="1200">



    

  <link rel="assets" href="https://github.itu.dk/">
  

  <meta name="request-id" content="ccc04a24-1899-4962-873a-fbfa3ce0893a" data-pjax-transient="true" /><meta name="html-safe-nonce" content="6cade37c09a7252154d256837ae40c928bf3d93bae292a4a01dd59813bacc297" data-pjax-transient="true" />



  <meta name="github-keyboard-shortcuts" content="" data-pjax-transient="true" />

  

  <meta name="selected-link" value="/login" data-pjax-transient>

  









  

      <meta name="hostname" content="github.itu.dk">
    <meta name="user-login" content="">

    <meta name="codemirror-crossorigin-credentials">

    <meta name="robots" content="noindex">


    <meta name="runtime-environment" content="enterprise">
    <meta name="is-private-instance" content="false">

  <meta http-equiv="x-pjax-version" content="bf470f0c222cb2ae806e61be0c8a31cace13d797a1b17dfd6aee027c65c01854">
  <meta http-equiv="x-pjax-csp-version" content="f85fed05d7a56a0a654baf89996e6006a66ac56bbd7c5f1174d3f0420e78b399">
  <meta http-equiv="x-pjax-css-version" content="32d4751801f05bf1d3c6665c8fbaa68ca199117238bcff7e8884483ffc500c2a">
  <meta http-equiv="x-pjax-js-version" content="8c28e30786637a1fde6bc7c6cd6290d1490f0066f576b8882f38b01c0a4e2142">
  

      <link crossorigin="use-credentials" media="all" integrity="sha512-ulKhp/EFOePuxILxSRWBMlEpbtYAFC1oqnaKAZL9E6fk9JyQBcAIYb8I06XDuCH31I2y+7Hpu3NT1CAk4NtosQ==" rel="stylesheet" href="https://github.itu.dk/assets/github-ba52a1a7f10539e3eec482f149158132.css" />



    <link rel="canonical" href="https://github.itu.dk/login" data-pjax-transient>



  <link rel="mask-icon" href="https://github.itu.dk/pinned-octocat.svg" color="#000000">
  <link rel="alternate icon" class="js-site-favicon" type="image/png" href="https://github.itu.dk/favicons/favicon-ent.png">
  <link rel="icon" class="js-site-favicon" type="image/svg+xml" href="https://github.itu.dk/favicons/favicon-ent.svg">

<meta name="theme-color" content="#1e2327">
<meta name="color-scheme" content="light dark" />


  <link rel="manifest" href="/manifest.json" crossOrigin="use-credentials">

  </head>

  <body class="logged-out enterprise env-production page-responsive session-authentication" style="word-wrap: break-word;">
    

    <div class="position-relative js-header-wrapper ">
      <a href="#start-of-content" class="px-2 py-4 color-bg-accent-emphasis color-fg-on-emphasis show-on-focus js-skip-to-content">Skip to content</a>
      <span data-view-component="true" class="progress-pjax-loader js-pjax-loader-bar Progress position-fixed width-full">
    <span style="width: 0%;" data-view-component="true" class="Progress-item progress-pjax-loader-bar left-0 top-0 color-bg-accent-emphasis"></span>
</span>      
      

          <div id="unsupported-browser" class="unsupported-browser" hidden>
  <div class="container-lg p-responsive clearfix d-flex flex-items-center py-2">
      <svg aria-hidden="true" height="16" viewBox="0 0 16 16" version="1.1" width="16" data-view-component="true" class="octicon octicon-alert mr-2 hide-sm color-fg-subtle">
    <path fill-rule="evenodd" d="M8.22 1.754a.25.25 0 00-.44 0L1.698 13.132a.25.25 0 00.22.368h12.164a.25.25 0 00.22-.368L8.22 1.754zm-1.763-.707c.659-1.234 2.427-1.234 3.086 0l6.082 11.378A1.75 1.75 0 0114.082 15H1.918a1.75 1.75 0 01-1.543-2.575L6.457 1.047zM9 11a1 1 0 11-2 0 1 1 0 012 0zm-.25-5.25a.75.75 0 00-1.5 0v2.5a.75.75 0 001.5 0v-2.5z"></path>
</svg>
    <div class="d-flex flex-auto flex-column flex-md-row">
      <div class="flex-auto min-width-0 mr-2" style="padding-top:1px">
        <span>GitHub no longer supports this web browser.</span>
        <a href="https://docs.github.com/enterprise/3.4/articles/supported-browsers">
          Learn more about the browsers we support.
        </a>
      </div>
    </div>
  </div>
</div>



        <div class="header header-logged-out width-full pt-5 pb-4" role="banner">
  <div class="container clearfix width-full text-center">
      <a class="header-logo" href="https://github.itu.dk/" aria-label="Homepage">
          <img alt="GitHub Enterprise logo" src="https://github.itu.dk/images/modules/enterprise/gh-enterprise-logo.svg" width="204">
      </a>
  </div>
</div>


    </div>

  <div id="start-of-content" class="show-on-focus"></div>








    

  <include-fragment class="js-notification-shelf-include-fragment" data-base-src="https://github.itu.dk/notifications/beta/shelf"></include-fragment>





  <div
    class="application-main "
    data-commit-hovercards-enabled
    data-discussion-hovercards-enabled
    data-issue-and-pr-hovercards-enabled
  >
      <main id="js-pjax-container" data-pjax-container>
        


  <div class="auth-form px-3" id="login" >


      <input type="hidden" name="ga_id" class="js-octo-ga-id-input">
      <div class="auth-form-header p-0">
        <h1>Sign in via LDAP</h1>
      </div>


      <div data-pjax-replace id="js-flash-container">


  <template class="js-flash-template">
    <div class="flash flash-full  {{ className }}">
  <div class="container-lg px-2" >
    <button class="flash-close js-flash-close" type="button" aria-label="Dismiss this message">
      <svg aria-hidden="true" height="16" viewBox="0 0 16 16" version="1.1" width="16" data-view-component="true" class="octicon octicon-x">
    <path fill-rule="evenodd" d="M3.72 3.72a.75.75 0 011.06 0L8 6.94l3.22-3.22a.75.75 0 111.06 1.06L9.06 8l3.22 3.22a.75.75 0 11-1.06 1.06L8 9.06l-3.22 3.22a.75.75 0 01-1.06-1.06L6.94 8 3.72 4.78a.75.75 0 010-1.06z"></path>
</svg>
    </button>
    
      <div>{{ message }}</div>

  </div>
</div>
  </template>
</div>


      <div class="flash js-transform-notice" hidden>
        <button class="flash-close js-flash-close" type="button" aria-label="Dismiss this message">
          <svg aria-label="Dismiss" role="img" height="16" viewBox="0 0 16 16" version="1.1" width="16" data-view-component="true" class="octicon octicon-x">
    <path fill-rule="evenodd" d="M3.72 3.72a.75.75 0 011.06 0L8 6.94l3.22-3.22a.75.75 0 111.06 1.06L9.06 8l3.22 3.22a.75.75 0 11-1.06 1.06L8 9.06l-3.22 3.22a.75.75 0 01-1.06-1.06L6.94 8 3.72 4.78a.75.75 0 010-1.06z"></path>
</svg>
        </button>
      </div>

      <div class="auth-form-body mt-3">

          <!-- '"` --><!-- </textarea></xmp> --></option></form><form action="/session" accept-charset="UTF-8" method="post"><input type="hidden" name="authenticity_token" value="_1GTnwUNqVtLmBBLyqTxs7hlnv-6rO004UESDAqrqKMTEki-Ax2nwcX3qOtykpqyqFb7yL88RB7mNrxjX1PQJA" />  <label for="login_field">
    Username
  </label>
  <input type="text" name="login" id="login_field" class="form-control input-block js-login-field" autocapitalize="off" autocorrect="off" autocomplete="username" autofocus="autofocus" />

  <div class="position-relative">
    <label for="password">
      Password
    </label>
    <input type="password" name="password" id="password" class="form-control form-control input-block js-password-field" autocomplete="current-password" />
    <input type="hidden" name="trusted_device" id="trusted_device" autocomplete="off" class="form-control" />
    
<input type="hidden" class="js-webauthn-support" name="webauthn-support" value="unknown">
<input type="hidden" class="js-webauthn-iuvpaa-support" name="webauthn-iuvpaa-support" value="unknown">
<input type="hidden" name="return_to" id="return_to" value="https://github.itu.dk/fyp2022-group-L2/fyp2022-imaging-L2/raw/master/notebooks/31:03.ipynb" autocomplete="off" class="form-control" />
<input type="hidden" name="allow_signup" id="allow_signup" autocomplete="off" class="form-control" />
<input type="hidden" name="client_id" id="client_id" autocomplete="off" class="form-control" />
<input type="hidden" name="integration" id="integration" autocomplete="off" class="form-control" />


    <input type="submit" name="commit" value="Sign in" class="btn btn-primary btn-block js-sign-in-button" data-disable-with="Signing in…" data-signin-label="Sign in" data-sso-label="Sign in with your identity provider" />

    
  </div>
</form>
      </div>




  </div>

      </main>
  </div>

          <div class="footer container-lg p-responsive py-6 mt-6 f6" role="contentinfo">
    <ul class="list-style-none d-flex flex-justify-center">
        <li><a href="https://docs.github.com/enterprise/3.4">Help</a></li>
            <li class="ml-3"><a href="mailto:it@itu.dk">Support</a></li>
    </ul>
  </div>



  <div id="ajax-error-message" class="ajax-error-message flash flash-error" hidden>
    <svg aria-hidden="true" height="16" viewBox="0 0 16 16" version="1.1" width="16" data-view-component="true" class="octicon octicon-alert">
    <path fill-rule="evenodd" d="M8.22 1.754a.25.25 0 00-.44 0L1.698 13.132a.25.25 0 00.22.368h12.164a.25.25 0 00.22-.368L8.22 1.754zm-1.763-.707c.659-1.234 2.427-1.234 3.086 0l6.082 11.378A1.75 1.75 0 0114.082 15H1.918a1.75 1.75 0 01-1.543-2.575L6.457 1.047zM9 11a1 1 0 11-2 0 1 1 0 012 0zm-.25-5.25a.75.75 0 00-1.5 0v2.5a.75.75 0 001.5 0v-2.5z"></path>
</svg>
    <button type="button" class="flash-close js-ajax-error-dismiss" aria-label="Dismiss error">
      <svg aria-hidden="true" height="16" viewBox="0 0 16 16" version="1.1" width="16" data-view-component="true" class="octicon octicon-x">
    <path fill-rule="evenodd" d="M3.72 3.72a.75.75 0 011.06 0L8 6.94l3.22-3.22a.75.75 0 111.06 1.06L9.06 8l3.22 3.22a.75.75 0 11-1.06 1.06L8 9.06l-3.22 3.22a.75.75 0 01-1.06-1.06L6.94 8 3.72 4.78a.75.75 0 010-1.06z"></path>
</svg>
    </button>
    You can’t perform that action at this time.
  </div>

  <div class="js-stale-session-flash flash flash-warn flash-banner" hidden
    >
    <svg aria-hidden="true" height="16" viewBox="0 0 16 16" version="1.1" width="16" data-view-component="true" class="octicon octicon-alert">
    <path fill-rule="evenodd" d="M8.22 1.754a.25.25 0 00-.44 0L1.698 13.132a.25.25 0 00.22.368h12.164a.25.25 0 00.22-.368L8.22 1.754zm-1.763-.707c.659-1.234 2.427-1.234 3.086 0l6.082 11.378A1.75 1.75 0 0114.082 15H1.918a1.75 1.75 0 01-1.543-2.575L6.457 1.047zM9 11a1 1 0 11-2 0 1 1 0 012 0zm-.25-5.25a.75.75 0 00-1.5 0v2.5a.75.75 0 001.5 0v-2.5z"></path>
</svg>
    <span class="js-stale-session-flash-signed-in" hidden>You signed in with another tab or window. <a href="">Reload</a> to refresh your session.</span>
    <span class="js-stale-session-flash-signed-out" hidden>You signed out in another tab or window. <a href="">Reload</a> to refresh your session.</span>
  </div>
    <template id="site-details-dialog">
  <details class="details-reset details-overlay details-overlay-dark lh-default color-fg-default hx_rsm" open>
    <summary role="button" aria-label="Close dialog"></summary>
    <details-dialog class="Box Box--overlay d-flex flex-column anim-fade-in fast hx_rsm-dialog hx_rsm-modal" aria-labelledby="box-title">
      <button class="Box-btn-octicon m-0 btn-octicon position-absolute right-0 top-0" type="button" aria-label="Close dialog" data-close-dialog>
        <svg aria-hidden="true" height="16" viewBox="0 0 16 16" version="1.1" width="16" data-view-component="true" class="octicon octicon-x">
    <path fill-rule="evenodd" d="M3.72 3.72a.75.75 0 011.06 0L8 6.94l3.22-3.22a.75.75 0 111.06 1.06L9.06 8l3.22 3.22a.75.75 0 11-1.06 1.06L8 9.06l-3.22 3.22a.75.75 0 01-1.06-1.06L6.94 8 3.72 4.78a.75.75 0 010-1.06z"></path>
</svg>
      </button>
      <div class="octocat-spinner my-6 js-details-dialog-spinner"></div>
    </details-dialog>
  </details>
</template>

    <div class="Popover js-hovercard-content position-absolute" style="display: none; outline: none;" tabindex="0">
  <div class="Popover-message Popover-message--bottom-left Popover-message--large Box color-shadow-large" style="width:360px;">
  </div>
</div>

    <template id="snippet-clipboard-copy-button">
  <div class="zeroclipboard-container position-absolute right-0 top-0">
    <clipboard-copy aria-label="Copy" class="ClipboardButton btn js-clipboard-copy m-2 p-0 tooltipped-no-delay" data-copy-feedback="Copied!" data-tooltip-direction="w">
      <svg aria-hidden="true" height="16" viewBox="0 0 16 16" version="1.1" width="16" data-view-component="true" class="octicon octicon-copy js-clipboard-copy-icon m-2">
    <path fill-rule="evenodd" d="M0 6.75C0 5.784.784 5 1.75 5h1.5a.75.75 0 010 1.5h-1.5a.25.25 0 00-.25.25v7.5c0 .138.112.25.25.25h7.5a.25.25 0 00.25-.25v-1.5a.75.75 0 011.5 0v1.5A1.75 1.75 0 019.25 16h-7.5A1.75 1.75 0 010 14.25v-7.5z"></path><path fill-rule="evenodd" d="M5 1.75C5 .784 5.784 0 6.75 0h7.5C15.216 0 16 .784 16 1.75v7.5A1.75 1.75 0 0114.25 11h-7.5A1.75 1.75 0 015 9.25v-7.5zm1.75-.25a.25.25 0 00-.25.25v7.5c0 .138.112.25.25.25h7.5a.25.25 0 00.25-.25v-7.5a.25.25 0 00-.25-.25h-7.5z"></path>
</svg>
      <svg aria-hidden="true" height="16" viewBox="0 0 16 16" version="1.1" width="16" data-view-component="true" class="octicon octicon-check js-clipboard-check-icon color-fg-success d-none m-2">
    <path fill-rule="evenodd" d="M13.78 4.22a.75.75 0 010 1.06l-7.25 7.25a.75.75 0 01-1.06 0L2.22 9.28a.75.75 0 011.06-1.06L6 10.94l6.72-6.72a.75.75 0 011.06 0z"></path>
</svg>
    </clipboard-copy>
  </div>
</template>




  </body>
</html>

